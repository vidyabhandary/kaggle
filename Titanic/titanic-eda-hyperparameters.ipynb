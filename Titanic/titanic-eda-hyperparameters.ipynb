{
 "cells": [
  {
   "cell_type": "markdown",
   "metadata": {},
   "source": [
    "## Titanic - Data Analysis ##\n",
    "\n",
    "\n",
    "***Vidya Bhandary***\n",
    "\n",
    "Beginer work in machine learning.  Inspired by the following -\n",
    "\n",
    "1. https://github.com/ageron/handson-ml2/blob/master/03_classification.ipynb\n",
    "2. https://www.kaggle.com/sinakhorami/titanic-best-working-classifier\n",
    "3. https://www.kaggle.com/ash316/eda-to-prediction-dietanic\n",
    "4. https://www.kaggle.com/konstantinmasich/titanic-0-82-0-83 \n",
    "\n",
    "*Aug 2019*"
   ]
  },
  {
   "cell_type": "markdown",
   "metadata": {},
   "source": [
    "- <a href='#1'>1. Introduction </a>  \n",
    "    - <a href='#1.1'>1.1. Load libraries, read and check the data</a> \n",
    "- <a href='#2'>2. Exploratory Data Analysis </a> \n",
    "    - <a href='#2.1'>2.1. Survival </a> \n",
    "    - <a href='#2.2'>2.2. Class and Gender  </a> \n",
    "    - <a href='#2.3'>2.3. Other attributes </a> \n",
    "- <a href='#3'>3. Missing Values, Feature Engineering and Data Cleaning </a>\n",
    "    - <a href='#3.1'>3.1. Handling Missing Values </a> \n",
    "    - <a href='#3.2'>3.2. Feature Engineering </a>\n",
    "    - <a href='#3.3'>3.3. Data Cleaning   </a>\n",
    "- <a href='#4'>4. Models</a>\n",
    "\t- <a href='#4.1'>4.1. Pipeline, ColumnTransformer </a> \n",
    "\t- <a href='#4.2'>4.2. Split Data</a>\n",
    "    - <a href='#4.3'>4.3. Evaluate Models </a> \n",
    "- <a href='#5'>5. Hyper Parameters</a> \n",
    "    - <a href='#5.1'>5.1. Hyper Parameter Tuning</a> \n",
    "    - <a href='#5.2'>5.2. Choose final prediction model</a>\n",
    "    - <a href='#5.3'>5.3. Prediction! </a>\n",
    "- <a href='#6'>6. Submission </a> "
   ]
  },
  {
   "cell_type": "markdown",
   "metadata": {},
   "source": [
    "# <a id='1'>1. Introduction </a> "
   ]
  },
  {
   "cell_type": "markdown",
   "metadata": {},
   "source": [
    "The sinking of the Titanic is one of the most infamous shipwrecks in history. It was considered an unsinkable ship.\n",
    "Unfortunately on April 15, 1912, during her maiden voyage, the Titanic sank after colliding with an iceberg.\n",
    "1502 out of 2224 passengers and crew died. \n",
    "\n",
    "In this notebook an analysis is made to predict which type of people were likely to survive."
   ]
  },
  {
   "cell_type": "markdown",
   "metadata": {},
   "source": [
    "## <a id='1.1'>1.1. Load libraries, read and check the data</a> "
   ]
  },
  {
   "cell_type": "code",
   "execution_count": 1,
   "metadata": {
    "_cell_guid": "b1076dfc-b9ad-4769-8c92-a6c4dae69d19",
    "_uuid": "8f2839f25d086af736a60e9eeb907d3b93b6e0e5"
   },
   "outputs": [
    {
     "name": "stdout",
     "output_type": "stream",
     "text": [
      "['gender_submission.csv', 'test.csv', 'train.csv']\n"
     ]
    }
   ],
   "source": [
    "import numpy as np # linear algebra\n",
    "import pandas as pd # data processing, CSV file I/O (e.g. pd.read_csv)\n",
    "\n",
    "import os\n",
    "print(os.listdir(\"../input\"))\n",
    "\n",
    "# To plot the figures\n",
    "%matplotlib inline\n",
    "import matplotlib as mpl\n",
    "import matplotlib.pyplot as plt\n",
    "mpl.rc('axes', labelsize=14)\n",
    "mpl.rc('xtick', labelsize=12)\n",
    "mpl.rc('ytick', labelsize=12)\n",
    "\n",
    "import seaborn as sns\n",
    "\n",
    "import warnings\n",
    "warnings.filterwarnings(\"ignore\")"
   ]
  },
  {
   "cell_type": "code",
   "execution_count": 2,
   "metadata": {
    "_cell_guid": "79c7e3d0-c299-4dcb-8224-4455121ee9b0",
    "_uuid": "d629ff2d2480ee46fbb7e2d37f6b5fab8052498a"
   },
   "outputs": [],
   "source": [
    "train=pd.read_csv('../input/train.csv')"
   ]
  },
  {
   "cell_type": "code",
   "execution_count": 3,
   "metadata": {},
   "outputs": [],
   "source": [
    "test=pd.read_csv('../input/test.csv')"
   ]
  },
  {
   "cell_type": "code",
   "execution_count": 4,
   "metadata": {},
   "outputs": [
    {
     "data": {
      "text/html": [
       "<div>\n",
       "<style scoped>\n",
       "    .dataframe tbody tr th:only-of-type {\n",
       "        vertical-align: middle;\n",
       "    }\n",
       "\n",
       "    .dataframe tbody tr th {\n",
       "        vertical-align: top;\n",
       "    }\n",
       "\n",
       "    .dataframe thead th {\n",
       "        text-align: right;\n",
       "    }\n",
       "</style>\n",
       "<table border=\"1\" class=\"dataframe\">\n",
       "  <thead>\n",
       "    <tr style=\"text-align: right;\">\n",
       "      <th></th>\n",
       "      <th>PassengerId</th>\n",
       "      <th>Survived</th>\n",
       "      <th>Pclass</th>\n",
       "      <th>Name</th>\n",
       "      <th>Sex</th>\n",
       "      <th>Age</th>\n",
       "      <th>SibSp</th>\n",
       "      <th>Parch</th>\n",
       "      <th>Ticket</th>\n",
       "      <th>Fare</th>\n",
       "      <th>Cabin</th>\n",
       "      <th>Embarked</th>\n",
       "    </tr>\n",
       "  </thead>\n",
       "  <tbody>\n",
       "    <tr>\n",
       "      <th>0</th>\n",
       "      <td>1</td>\n",
       "      <td>0</td>\n",
       "      <td>3</td>\n",
       "      <td>Braund, Mr. Owen Harris</td>\n",
       "      <td>male</td>\n",
       "      <td>22.0</td>\n",
       "      <td>1</td>\n",
       "      <td>0</td>\n",
       "      <td>A/5 21171</td>\n",
       "      <td>7.2500</td>\n",
       "      <td>NaN</td>\n",
       "      <td>S</td>\n",
       "    </tr>\n",
       "    <tr>\n",
       "      <th>1</th>\n",
       "      <td>2</td>\n",
       "      <td>1</td>\n",
       "      <td>1</td>\n",
       "      <td>Cumings, Mrs. John Bradley (Florence Briggs Th...</td>\n",
       "      <td>female</td>\n",
       "      <td>38.0</td>\n",
       "      <td>1</td>\n",
       "      <td>0</td>\n",
       "      <td>PC 17599</td>\n",
       "      <td>71.2833</td>\n",
       "      <td>C85</td>\n",
       "      <td>C</td>\n",
       "    </tr>\n",
       "    <tr>\n",
       "      <th>2</th>\n",
       "      <td>3</td>\n",
       "      <td>1</td>\n",
       "      <td>3</td>\n",
       "      <td>Heikkinen, Miss. Laina</td>\n",
       "      <td>female</td>\n",
       "      <td>26.0</td>\n",
       "      <td>0</td>\n",
       "      <td>0</td>\n",
       "      <td>STON/O2. 3101282</td>\n",
       "      <td>7.9250</td>\n",
       "      <td>NaN</td>\n",
       "      <td>S</td>\n",
       "    </tr>\n",
       "    <tr>\n",
       "      <th>3</th>\n",
       "      <td>4</td>\n",
       "      <td>1</td>\n",
       "      <td>1</td>\n",
       "      <td>Futrelle, Mrs. Jacques Heath (Lily May Peel)</td>\n",
       "      <td>female</td>\n",
       "      <td>35.0</td>\n",
       "      <td>1</td>\n",
       "      <td>0</td>\n",
       "      <td>113803</td>\n",
       "      <td>53.1000</td>\n",
       "      <td>C123</td>\n",
       "      <td>S</td>\n",
       "    </tr>\n",
       "    <tr>\n",
       "      <th>4</th>\n",
       "      <td>5</td>\n",
       "      <td>0</td>\n",
       "      <td>3</td>\n",
       "      <td>Allen, Mr. William Henry</td>\n",
       "      <td>male</td>\n",
       "      <td>35.0</td>\n",
       "      <td>0</td>\n",
       "      <td>0</td>\n",
       "      <td>373450</td>\n",
       "      <td>8.0500</td>\n",
       "      <td>NaN</td>\n",
       "      <td>S</td>\n",
       "    </tr>\n",
       "  </tbody>\n",
       "</table>\n",
       "</div>"
      ],
      "text/plain": [
       "   PassengerId  Survived  Pclass  \\\n",
       "0            1         0       3   \n",
       "1            2         1       1   \n",
       "2            3         1       3   \n",
       "3            4         1       1   \n",
       "4            5         0       3   \n",
       "\n",
       "                                                Name     Sex   Age  SibSp  \\\n",
       "0                            Braund, Mr. Owen Harris    male  22.0      1   \n",
       "1  Cumings, Mrs. John Bradley (Florence Briggs Th...  female  38.0      1   \n",
       "2                             Heikkinen, Miss. Laina  female  26.0      0   \n",
       "3       Futrelle, Mrs. Jacques Heath (Lily May Peel)  female  35.0      1   \n",
       "4                           Allen, Mr. William Henry    male  35.0      0   \n",
       "\n",
       "   Parch            Ticket     Fare Cabin Embarked  \n",
       "0      0         A/5 21171   7.2500   NaN        S  \n",
       "1      0          PC 17599  71.2833   C85        C  \n",
       "2      0  STON/O2. 3101282   7.9250   NaN        S  \n",
       "3      0            113803  53.1000  C123        S  \n",
       "4      0            373450   8.0500   NaN        S  "
      ]
     },
     "execution_count": 4,
     "metadata": {},
     "output_type": "execute_result"
    }
   ],
   "source": [
    "train.head()"
   ]
  },
  {
   "cell_type": "markdown",
   "metadata": {},
   "source": [
    "The features:\n",
    "- **PassengerId**: Unique passenger Id for each passenger\n",
    "- **Survived**: that's the target, 0 means the passenger did not survive, while 1 means he/she survived.\n",
    "- **Pclass**: passenger class. 1st = Upper, 2nd = Middle, 3rd = Lower\n",
    "- **Name, Sex, Age**: self-explanatory\n",
    "- **SibSp**: how many siblings & spouses of the passenger aboard the Titanic.\n",
    "- **Parch**: how many children & parents of the passenger aboard the Titanic.\n",
    "- **Ticket**: ticket id\n",
    "- **Fare**: price paid (in pounds)\n",
    "- **Cabin**: passenger's cabin number\n",
    "- **Embarked**: where the passenger embarked the Titanic - C = Cherbourg, Q = Queenstown, S = Southampton"
   ]
  },
  {
   "cell_type": "code",
   "execution_count": 5,
   "metadata": {},
   "outputs": [
    {
     "data": {
      "text/plain": [
       "(891, 12)"
      ]
     },
     "execution_count": 5,
     "metadata": {},
     "output_type": "execute_result"
    }
   ],
   "source": [
    "train.shape"
   ]
  },
  {
   "cell_type": "markdown",
   "metadata": {},
   "source": [
    "> **Observation(s)** \n",
    "- We have data of **891** passengers along with **12** features for each passenger\n",
    "\n",
    "\n",
    "Taking a look at the first few rows of the test data."
   ]
  },
  {
   "cell_type": "code",
   "execution_count": 6,
   "metadata": {},
   "outputs": [
    {
     "data": {
      "text/html": [
       "<div>\n",
       "<style scoped>\n",
       "    .dataframe tbody tr th:only-of-type {\n",
       "        vertical-align: middle;\n",
       "    }\n",
       "\n",
       "    .dataframe tbody tr th {\n",
       "        vertical-align: top;\n",
       "    }\n",
       "\n",
       "    .dataframe thead th {\n",
       "        text-align: right;\n",
       "    }\n",
       "</style>\n",
       "<table border=\"1\" class=\"dataframe\">\n",
       "  <thead>\n",
       "    <tr style=\"text-align: right;\">\n",
       "      <th></th>\n",
       "      <th>PassengerId</th>\n",
       "      <th>Pclass</th>\n",
       "      <th>Name</th>\n",
       "      <th>Sex</th>\n",
       "      <th>Age</th>\n",
       "      <th>SibSp</th>\n",
       "      <th>Parch</th>\n",
       "      <th>Ticket</th>\n",
       "      <th>Fare</th>\n",
       "      <th>Cabin</th>\n",
       "      <th>Embarked</th>\n",
       "    </tr>\n",
       "  </thead>\n",
       "  <tbody>\n",
       "    <tr>\n",
       "      <th>0</th>\n",
       "      <td>892</td>\n",
       "      <td>3</td>\n",
       "      <td>Kelly, Mr. James</td>\n",
       "      <td>male</td>\n",
       "      <td>34.5</td>\n",
       "      <td>0</td>\n",
       "      <td>0</td>\n",
       "      <td>330911</td>\n",
       "      <td>7.8292</td>\n",
       "      <td>NaN</td>\n",
       "      <td>Q</td>\n",
       "    </tr>\n",
       "    <tr>\n",
       "      <th>1</th>\n",
       "      <td>893</td>\n",
       "      <td>3</td>\n",
       "      <td>Wilkes, Mrs. James (Ellen Needs)</td>\n",
       "      <td>female</td>\n",
       "      <td>47.0</td>\n",
       "      <td>1</td>\n",
       "      <td>0</td>\n",
       "      <td>363272</td>\n",
       "      <td>7.0000</td>\n",
       "      <td>NaN</td>\n",
       "      <td>S</td>\n",
       "    </tr>\n",
       "    <tr>\n",
       "      <th>2</th>\n",
       "      <td>894</td>\n",
       "      <td>2</td>\n",
       "      <td>Myles, Mr. Thomas Francis</td>\n",
       "      <td>male</td>\n",
       "      <td>62.0</td>\n",
       "      <td>0</td>\n",
       "      <td>0</td>\n",
       "      <td>240276</td>\n",
       "      <td>9.6875</td>\n",
       "      <td>NaN</td>\n",
       "      <td>Q</td>\n",
       "    </tr>\n",
       "    <tr>\n",
       "      <th>3</th>\n",
       "      <td>895</td>\n",
       "      <td>3</td>\n",
       "      <td>Wirz, Mr. Albert</td>\n",
       "      <td>male</td>\n",
       "      <td>27.0</td>\n",
       "      <td>0</td>\n",
       "      <td>0</td>\n",
       "      <td>315154</td>\n",
       "      <td>8.6625</td>\n",
       "      <td>NaN</td>\n",
       "      <td>S</td>\n",
       "    </tr>\n",
       "    <tr>\n",
       "      <th>4</th>\n",
       "      <td>896</td>\n",
       "      <td>3</td>\n",
       "      <td>Hirvonen, Mrs. Alexander (Helga E Lindqvist)</td>\n",
       "      <td>female</td>\n",
       "      <td>22.0</td>\n",
       "      <td>1</td>\n",
       "      <td>1</td>\n",
       "      <td>3101298</td>\n",
       "      <td>12.2875</td>\n",
       "      <td>NaN</td>\n",
       "      <td>S</td>\n",
       "    </tr>\n",
       "  </tbody>\n",
       "</table>\n",
       "</div>"
      ],
      "text/plain": [
       "   PassengerId  Pclass                                          Name     Sex  \\\n",
       "0          892       3                              Kelly, Mr. James    male   \n",
       "1          893       3              Wilkes, Mrs. James (Ellen Needs)  female   \n",
       "2          894       2                     Myles, Mr. Thomas Francis    male   \n",
       "3          895       3                              Wirz, Mr. Albert    male   \n",
       "4          896       3  Hirvonen, Mrs. Alexander (Helga E Lindqvist)  female   \n",
       "\n",
       "    Age  SibSp  Parch   Ticket     Fare Cabin Embarked  \n",
       "0  34.5      0      0   330911   7.8292   NaN        Q  \n",
       "1  47.0      1      0   363272   7.0000   NaN        S  \n",
       "2  62.0      0      0   240276   9.6875   NaN        Q  \n",
       "3  27.0      0      0   315154   8.6625   NaN        S  \n",
       "4  22.0      1      1  3101298  12.2875   NaN        S  "
      ]
     },
     "execution_count": 6,
     "metadata": {},
     "output_type": "execute_result"
    }
   ],
   "source": [
    "test.head()"
   ]
  },
  {
   "cell_type": "code",
   "execution_count": 7,
   "metadata": {},
   "outputs": [
    {
     "data": {
      "text/plain": [
       "(418, 11)"
      ]
     },
     "execution_count": 7,
     "metadata": {},
     "output_type": "execute_result"
    }
   ],
   "source": [
    "test.shape"
   ]
  },
  {
   "cell_type": "markdown",
   "metadata": {},
   "source": [
    "> **Observation(s)** \n",
    "- We have data for **481** passengers in the test set"
   ]
  },
  {
   "cell_type": "markdown",
   "metadata": {},
   "source": [
    "Checking for missing data in the training dataset"
   ]
  },
  {
   "cell_type": "code",
   "execution_count": 8,
   "metadata": {},
   "outputs": [
    {
     "name": "stdout",
     "output_type": "stream",
     "text": [
      "<class 'pandas.core.frame.DataFrame'>\n",
      "RangeIndex: 891 entries, 0 to 890\n",
      "Data columns (total 12 columns):\n",
      "PassengerId    891 non-null int64\n",
      "Survived       891 non-null int64\n",
      "Pclass         891 non-null int64\n",
      "Name           891 non-null object\n",
      "Sex            891 non-null object\n",
      "Age            714 non-null float64\n",
      "SibSp          891 non-null int64\n",
      "Parch          891 non-null int64\n",
      "Ticket         891 non-null object\n",
      "Fare           891 non-null float64\n",
      "Cabin          204 non-null object\n",
      "Embarked       889 non-null object\n",
      "dtypes: float64(2), int64(5), object(5)\n",
      "memory usage: 83.6+ KB\n"
     ]
    }
   ],
   "source": [
    "# Missing Data \n",
    "train.info()"
   ]
  },
  {
   "cell_type": "code",
   "execution_count": 9,
   "metadata": {},
   "outputs": [
    {
     "data": {
      "text/plain": [
       "PassengerId      0\n",
       "Survived         0\n",
       "Pclass           0\n",
       "Name             0\n",
       "Sex              0\n",
       "Age            177\n",
       "SibSp            0\n",
       "Parch            0\n",
       "Ticket           0\n",
       "Fare             0\n",
       "Cabin          687\n",
       "Embarked         2\n",
       "dtype: int64"
      ]
     },
     "execution_count": 9,
     "metadata": {},
     "output_type": "execute_result"
    }
   ],
   "source": [
    "train.isnull().sum()"
   ]
  },
  {
   "cell_type": "markdown",
   "metadata": {},
   "source": [
    "> **Observation(s)** \n",
    "- In the training data - the feature **'Cabin'** has the most missing values\n",
    "- Next is the **'Age'** feature with most missing values\n",
    "- The **Embarked** feature has only 2 missing values"
   ]
  },
  {
   "cell_type": "code",
   "execution_count": 10,
   "metadata": {},
   "outputs": [
    {
     "data": {
      "text/plain": [
       "PassengerId      0\n",
       "Pclass           0\n",
       "Name             0\n",
       "Sex              0\n",
       "Age             86\n",
       "SibSp            0\n",
       "Parch            0\n",
       "Ticket           0\n",
       "Fare             1\n",
       "Cabin          327\n",
       "Embarked         0\n",
       "dtype: int64"
      ]
     },
     "execution_count": 10,
     "metadata": {},
     "output_type": "execute_result"
    }
   ],
   "source": [
    "test.isnull().sum()"
   ]
  },
  {
   "cell_type": "markdown",
   "metadata": {},
   "source": [
    "> **Observation(s)** \n",
    "- In the test data - the feature **'Cabin'** has the most missing values.\n",
    "- Next is the **'Age'** feature with most missing values\n",
    "- The **Fare** feature has only 1 missing value"
   ]
  },
  {
   "cell_type": "code",
   "execution_count": 11,
   "metadata": {},
   "outputs": [
    {
     "data": {
      "text/html": [
       "<div>\n",
       "<style scoped>\n",
       "    .dataframe tbody tr th:only-of-type {\n",
       "        vertical-align: middle;\n",
       "    }\n",
       "\n",
       "    .dataframe tbody tr th {\n",
       "        vertical-align: top;\n",
       "    }\n",
       "\n",
       "    .dataframe thead th {\n",
       "        text-align: right;\n",
       "    }\n",
       "</style>\n",
       "<table border=\"1\" class=\"dataframe\">\n",
       "  <thead>\n",
       "    <tr style=\"text-align: right;\">\n",
       "      <th></th>\n",
       "      <th>PassengerId</th>\n",
       "      <th>Survived</th>\n",
       "      <th>Pclass</th>\n",
       "      <th>Age</th>\n",
       "      <th>SibSp</th>\n",
       "      <th>Parch</th>\n",
       "      <th>Fare</th>\n",
       "    </tr>\n",
       "  </thead>\n",
       "  <tbody>\n",
       "    <tr>\n",
       "      <th>count</th>\n",
       "      <td>891.000000</td>\n",
       "      <td>891.000000</td>\n",
       "      <td>891.000000</td>\n",
       "      <td>714.000000</td>\n",
       "      <td>891.000000</td>\n",
       "      <td>891.000000</td>\n",
       "      <td>891.000000</td>\n",
       "    </tr>\n",
       "    <tr>\n",
       "      <th>mean</th>\n",
       "      <td>446.000000</td>\n",
       "      <td>0.383838</td>\n",
       "      <td>2.308642</td>\n",
       "      <td>29.699118</td>\n",
       "      <td>0.523008</td>\n",
       "      <td>0.381594</td>\n",
       "      <td>32.204208</td>\n",
       "    </tr>\n",
       "    <tr>\n",
       "      <th>std</th>\n",
       "      <td>257.353842</td>\n",
       "      <td>0.486592</td>\n",
       "      <td>0.836071</td>\n",
       "      <td>14.526497</td>\n",
       "      <td>1.102743</td>\n",
       "      <td>0.806057</td>\n",
       "      <td>49.693429</td>\n",
       "    </tr>\n",
       "    <tr>\n",
       "      <th>min</th>\n",
       "      <td>1.000000</td>\n",
       "      <td>0.000000</td>\n",
       "      <td>1.000000</td>\n",
       "      <td>0.420000</td>\n",
       "      <td>0.000000</td>\n",
       "      <td>0.000000</td>\n",
       "      <td>0.000000</td>\n",
       "    </tr>\n",
       "    <tr>\n",
       "      <th>25%</th>\n",
       "      <td>223.500000</td>\n",
       "      <td>0.000000</td>\n",
       "      <td>2.000000</td>\n",
       "      <td>20.125000</td>\n",
       "      <td>0.000000</td>\n",
       "      <td>0.000000</td>\n",
       "      <td>7.910400</td>\n",
       "    </tr>\n",
       "    <tr>\n",
       "      <th>50%</th>\n",
       "      <td>446.000000</td>\n",
       "      <td>0.000000</td>\n",
       "      <td>3.000000</td>\n",
       "      <td>28.000000</td>\n",
       "      <td>0.000000</td>\n",
       "      <td>0.000000</td>\n",
       "      <td>14.454200</td>\n",
       "    </tr>\n",
       "    <tr>\n",
       "      <th>75%</th>\n",
       "      <td>668.500000</td>\n",
       "      <td>1.000000</td>\n",
       "      <td>3.000000</td>\n",
       "      <td>38.000000</td>\n",
       "      <td>1.000000</td>\n",
       "      <td>0.000000</td>\n",
       "      <td>31.000000</td>\n",
       "    </tr>\n",
       "    <tr>\n",
       "      <th>max</th>\n",
       "      <td>891.000000</td>\n",
       "      <td>1.000000</td>\n",
       "      <td>3.000000</td>\n",
       "      <td>80.000000</td>\n",
       "      <td>8.000000</td>\n",
       "      <td>6.000000</td>\n",
       "      <td>512.329200</td>\n",
       "    </tr>\n",
       "  </tbody>\n",
       "</table>\n",
       "</div>"
      ],
      "text/plain": [
       "       PassengerId    Survived      Pclass         Age       SibSp  \\\n",
       "count   891.000000  891.000000  891.000000  714.000000  891.000000   \n",
       "mean    446.000000    0.383838    2.308642   29.699118    0.523008   \n",
       "std     257.353842    0.486592    0.836071   14.526497    1.102743   \n",
       "min       1.000000    0.000000    1.000000    0.420000    0.000000   \n",
       "25%     223.500000    0.000000    2.000000   20.125000    0.000000   \n",
       "50%     446.000000    0.000000    3.000000   28.000000    0.000000   \n",
       "75%     668.500000    1.000000    3.000000   38.000000    1.000000   \n",
       "max     891.000000    1.000000    3.000000   80.000000    8.000000   \n",
       "\n",
       "            Parch        Fare  \n",
       "count  891.000000  891.000000  \n",
       "mean     0.381594   32.204208  \n",
       "std      0.806057   49.693429  \n",
       "min      0.000000    0.000000  \n",
       "25%      0.000000    7.910400  \n",
       "50%      0.000000   14.454200  \n",
       "75%      0.000000   31.000000  \n",
       "max      6.000000  512.329200  "
      ]
     },
     "execution_count": 11,
     "metadata": {},
     "output_type": "execute_result"
    }
   ],
   "source": [
    "# Looking at the numerical data\n",
    "train.describe()"
   ]
  },
  {
   "cell_type": "markdown",
   "metadata": {},
   "source": [
    "> **Observation(s)** \n",
    "\n",
    "- #### Only 38% survived !\n",
    "- Mean Age was less than **30** years\n"
   ]
  },
  {
   "cell_type": "markdown",
   "metadata": {},
   "source": [
    "# <a id='2'>2. Exploratory Data Analysis </a> "
   ]
  },
  {
   "cell_type": "markdown",
   "metadata": {},
   "source": [
    "## <a id='2.1'>2.1. Survival</a> "
   ]
  },
  {
   "cell_type": "code",
   "execution_count": 12,
   "metadata": {},
   "outputs": [
    {
     "data": {
      "text/plain": [
       "0    549\n",
       "1    342\n",
       "Name: Survived, dtype: int64"
      ]
     },
     "execution_count": 12,
     "metadata": {},
     "output_type": "execute_result"
    }
   ],
   "source": [
    "# Survived feature\n",
    "train['Survived'].value_counts()"
   ]
  },
  {
   "cell_type": "code",
   "execution_count": 13,
   "metadata": {},
   "outputs": [
    {
     "data": {
      "image/png": "[encoded data removed]",
      "text/plain": [
       "<Figure size 1296x504 with 2 Axes>"
      ]
     },
     "metadata": {
      "needs_background": "light"
     },
     "output_type": "display_data"
    }
   ],
   "source": [
    "fig, ax = plt.subplots(1, 2, figsize=(18, 7))\n",
    "pieLabels = ['Did not survive', 'Survived']\n",
    "\n",
    "ax[0].pie(train['Survived'].value_counts(), explode=[0.05, 0.05], autopct='%1.1f%%', labels=pieLabels, shadow=True, \n",
    "          startangle=90)\n",
    "ax[0].axis('equal')\n",
    "ax[0].set_title('% age - Surivival')\n",
    "\n",
    "sns.countplot('Survived', data=train, ax=ax[1])\n",
    "ax[1].set_title('Count - Surivival')\n",
    "\n",
    "plt.show()"
   ]
  },
  {
   "cell_type": "markdown",
   "metadata": {},
   "source": [
    "> **Observation(s)** \n",
    "\n",
    "### Only 38.4% survived !"
   ]
  },
  {
   "cell_type": "markdown",
   "metadata": {},
   "source": [
    "## <a id='2.2'>2.2. Class and Gender </a> "
   ]
  },
  {
   "cell_type": "markdown",
   "metadata": {},
   "source": [
    "## 1. Pclass"
   ]
  },
  {
   "cell_type": "code",
   "execution_count": 14,
   "metadata": {},
   "outputs": [
    {
     "data": {
      "text/plain": [
       "3    491\n",
       "1    216\n",
       "2    184\n",
       "Name: Pclass, dtype: int64"
      ]
     },
     "execution_count": 14,
     "metadata": {},
     "output_type": "execute_result"
    }
   ],
   "source": [
    "# Pclass feature\n",
    "\n",
    "train['Pclass'].value_counts()"
   ]
  },
  {
   "cell_type": "code",
   "execution_count": 15,
   "metadata": {},
   "outputs": [
    {
     "data": {
      "text/html": [
       "<div>\n",
       "<style scoped>\n",
       "    .dataframe tbody tr th:only-of-type {\n",
       "        vertical-align: middle;\n",
       "    }\n",
       "\n",
       "    .dataframe tbody tr th {\n",
       "        vertical-align: top;\n",
       "    }\n",
       "\n",
       "    .dataframe thead th {\n",
       "        text-align: right;\n",
       "    }\n",
       "</style>\n",
       "<table border=\"1\" class=\"dataframe\">\n",
       "  <thead>\n",
       "    <tr style=\"text-align: right;\">\n",
       "      <th></th>\n",
       "      <th>Pclass</th>\n",
       "      <th>Survived</th>\n",
       "    </tr>\n",
       "  </thead>\n",
       "  <tbody>\n",
       "    <tr>\n",
       "      <th>0</th>\n",
       "      <td>1</td>\n",
       "      <td>0.629630</td>\n",
       "    </tr>\n",
       "    <tr>\n",
       "      <th>1</th>\n",
       "      <td>2</td>\n",
       "      <td>0.472826</td>\n",
       "    </tr>\n",
       "    <tr>\n",
       "      <th>2</th>\n",
       "      <td>3</td>\n",
       "      <td>0.242363</td>\n",
       "    </tr>\n",
       "  </tbody>\n",
       "</table>\n",
       "</div>"
      ],
      "text/plain": [
       "   Pclass  Survived\n",
       "0       1  0.629630\n",
       "1       2  0.472826\n",
       "2       3  0.242363"
      ]
     },
     "execution_count": 15,
     "metadata": {},
     "output_type": "execute_result"
    }
   ],
   "source": [
    "train[['Pclass', 'Survived']].groupby(['Pclass'], as_index=False).mean()"
   ]
  },
  {
   "cell_type": "code",
   "execution_count": 16,
   "metadata": {},
   "outputs": [
    {
     "data": {
      "text/html": [
       "<style  type=\"text/css\" >\n",
       "    #T_fd871ed8_b47f_11e9_8e1d_1514c12b8259row0_col0 {\n",
       "            background-color:  #00ffff;\n",
       "        }    #T_fd871ed8_b47f_11e9_8e1d_1514c12b8259row0_col1 {\n",
       "            background-color:  #ff00ff;\n",
       "        }    #T_fd871ed8_b47f_11e9_8e1d_1514c12b8259row1_col0 {\n",
       "            background-color:  #0ef1ff;\n",
       "        }    #T_fd871ed8_b47f_11e9_8e1d_1514c12b8259row1_col1 {\n",
       "            background-color:  #00ffff;\n",
       "        }    #T_fd871ed8_b47f_11e9_8e1d_1514c12b8259row2_col0 {\n",
       "            background-color:  #ff00ff;\n",
       "        }    #T_fd871ed8_b47f_11e9_8e1d_1514c12b8259row2_col1 {\n",
       "            background-color:  #a758ff;\n",
       "        }</style>  \n",
       "<table id=\"T_fd871ed8_b47f_11e9_8e1d_1514c12b8259\" > \n",
       "<thead>    <tr> \n",
       "        <th class=\"index_name level0\" >Survived</th> \n",
       "        <th class=\"col_heading level0 col0\" >0</th> \n",
       "        <th class=\"col_heading level0 col1\" >1</th> \n",
       "    </tr>    <tr> \n",
       "        <th class=\"index_name level0\" >Pclass</th> \n",
       "        <th class=\"blank\" ></th> \n",
       "        <th class=\"blank\" ></th> \n",
       "    </tr></thead> \n",
       "<tbody>    <tr> \n",
       "        <th id=\"T_fd871ed8_b47f_11e9_8e1d_1514c12b8259level0_row0\" class=\"row_heading level0 row0\" >1</th> \n",
       "        <td id=\"T_fd871ed8_b47f_11e9_8e1d_1514c12b8259row0_col0\" class=\"data row0 col0\" >80</td> \n",
       "        <td id=\"T_fd871ed8_b47f_11e9_8e1d_1514c12b8259row0_col1\" class=\"data row0 col1\" >136</td> \n",
       "    </tr>    <tr> \n",
       "        <th id=\"T_fd871ed8_b47f_11e9_8e1d_1514c12b8259level0_row1\" class=\"row_heading level0 row1\" >2</th> \n",
       "        <td id=\"T_fd871ed8_b47f_11e9_8e1d_1514c12b8259row1_col0\" class=\"data row1 col0\" >97</td> \n",
       "        <td id=\"T_fd871ed8_b47f_11e9_8e1d_1514c12b8259row1_col1\" class=\"data row1 col1\" >87</td> \n",
       "    </tr>    <tr> \n",
       "        <th id=\"T_fd871ed8_b47f_11e9_8e1d_1514c12b8259level0_row2\" class=\"row_heading level0 row2\" >3</th> \n",
       "        <td id=\"T_fd871ed8_b47f_11e9_8e1d_1514c12b8259row2_col0\" class=\"data row2 col0\" >372</td> \n",
       "        <td id=\"T_fd871ed8_b47f_11e9_8e1d_1514c12b8259row2_col1\" class=\"data row2 col1\" >119</td> \n",
       "    </tr></tbody> \n",
       "</table> "
      ],
      "text/plain": [
       "<pandas.io.formats.style.Styler at 0x7f50b84f6550>"
      ]
     },
     "execution_count": 16,
     "metadata": {},
     "output_type": "execute_result"
    }
   ],
   "source": [
    "pd.crosstab(train['Pclass'], train['Survived']).style.background_gradient(cmap='cool')"
   ]
  },
  {
   "cell_type": "code",
   "execution_count": 17,
   "metadata": {},
   "outputs": [
    {
     "data": {
      "image/png": "[encoded data removed]",
      "text/plain": [
       "<Figure size 1080x360 with 2 Axes>"
      ]
     },
     "metadata": {
      "needs_background": "light"
     },
     "output_type": "display_data"
    }
   ],
   "source": [
    "fig, ax = plt.subplots(1, 2, figsize=(15, 5))\n",
    "train.groupby(['Pclass','Survived']).size().unstack().plot(kind='bar',stacked=True, ax=ax[0])\n",
    "train.groupby(['Pclass','Survived']).size().unstack().plot(kind='bar',stacked=False, ax=ax[1])\n",
    "ax[0].set_title('Pclass vs Survived - Stacked')\n",
    "ax[1].set_title('Pclass vs Survived - Side by Size')\n",
    "plt.show()"
   ]
  },
  {
   "cell_type": "markdown",
   "metadata": {},
   "source": [
    "> **Observation(s)** \n",
    "- On average people belonging to **1st class** had a better chance of survival"
   ]
  },
  {
   "cell_type": "markdown",
   "metadata": {},
   "source": [
    "## 2. Sex"
   ]
  },
  {
   "cell_type": "code",
   "execution_count": 18,
   "metadata": {},
   "outputs": [
    {
     "data": {
      "text/plain": [
       "male      577\n",
       "female    314\n",
       "Name: Sex, dtype: int64"
      ]
     },
     "execution_count": 18,
     "metadata": {},
     "output_type": "execute_result"
    }
   ],
   "source": [
    "# Gender aka Sex\n",
    "\n",
    "train['Sex'].value_counts()"
   ]
  },
  {
   "cell_type": "code",
   "execution_count": 19,
   "metadata": {},
   "outputs": [
    {
     "data": {
      "text/html": [
       "<div>\n",
       "<style scoped>\n",
       "    .dataframe tbody tr th:only-of-type {\n",
       "        vertical-align: middle;\n",
       "    }\n",
       "\n",
       "    .dataframe tbody tr th {\n",
       "        vertical-align: top;\n",
       "    }\n",
       "\n",
       "    .dataframe thead th {\n",
       "        text-align: right;\n",
       "    }\n",
       "</style>\n",
       "<table border=\"1\" class=\"dataframe\">\n",
       "  <thead>\n",
       "    <tr style=\"text-align: right;\">\n",
       "      <th></th>\n",
       "      <th>Sex</th>\n",
       "      <th>Survived</th>\n",
       "    </tr>\n",
       "  </thead>\n",
       "  <tbody>\n",
       "    <tr>\n",
       "      <th>0</th>\n",
       "      <td>female</td>\n",
       "      <td>0.742038</td>\n",
       "    </tr>\n",
       "    <tr>\n",
       "      <th>1</th>\n",
       "      <td>male</td>\n",
       "      <td>0.188908</td>\n",
       "    </tr>\n",
       "  </tbody>\n",
       "</table>\n",
       "</div>"
      ],
      "text/plain": [
       "      Sex  Survived\n",
       "0  female  0.742038\n",
       "1    male  0.188908"
      ]
     },
     "execution_count": 19,
     "metadata": {},
     "output_type": "execute_result"
    }
   ],
   "source": [
    "train[['Sex', 'Survived']].groupby(['Sex'], as_index=False).mean()"
   ]
  },
  {
   "cell_type": "code",
   "execution_count": 20,
   "metadata": {},
   "outputs": [
    {
     "data": {
      "text/html": [
       "<style  type=\"text/css\" >\n",
       "    #T_fdc70624_b47f_11e9_8e1d_1514c12b8259row0_col0 {\n",
       "            background-color:  #00ffff;\n",
       "        }    #T_fdc70624_b47f_11e9_8e1d_1514c12b8259row0_col1 {\n",
       "            background-color:  #ff00ff;\n",
       "        }    #T_fdc70624_b47f_11e9_8e1d_1514c12b8259row1_col0 {\n",
       "            background-color:  #ff00ff;\n",
       "        }    #T_fdc70624_b47f_11e9_8e1d_1514c12b8259row1_col1 {\n",
       "            background-color:  #00ffff;\n",
       "        }</style>  \n",
       "<table id=\"T_fdc70624_b47f_11e9_8e1d_1514c12b8259\" > \n",
       "<thead>    <tr> \n",
       "        <th class=\"index_name level0\" >Survived</th> \n",
       "        <th class=\"col_heading level0 col0\" >0</th> \n",
       "        <th class=\"col_heading level0 col1\" >1</th> \n",
       "    </tr>    <tr> \n",
       "        <th class=\"index_name level0\" >Sex</th> \n",
       "        <th class=\"blank\" ></th> \n",
       "        <th class=\"blank\" ></th> \n",
       "    </tr></thead> \n",
       "<tbody>    <tr> \n",
       "        <th id=\"T_fdc70624_b47f_11e9_8e1d_1514c12b8259level0_row0\" class=\"row_heading level0 row0\" >female</th> \n",
       "        <td id=\"T_fdc70624_b47f_11e9_8e1d_1514c12b8259row0_col0\" class=\"data row0 col0\" >81</td> \n",
       "        <td id=\"T_fdc70624_b47f_11e9_8e1d_1514c12b8259row0_col1\" class=\"data row0 col1\" >233</td> \n",
       "    </tr>    <tr> \n",
       "        <th id=\"T_fdc70624_b47f_11e9_8e1d_1514c12b8259level0_row1\" class=\"row_heading level0 row1\" >male</th> \n",
       "        <td id=\"T_fdc70624_b47f_11e9_8e1d_1514c12b8259row1_col0\" class=\"data row1 col0\" >468</td> \n",
       "        <td id=\"T_fdc70624_b47f_11e9_8e1d_1514c12b8259row1_col1\" class=\"data row1 col1\" >109</td> \n",
       "    </tr></tbody> \n",
       "</table> "
      ],
      "text/plain": [
       "<pandas.io.formats.style.Styler at 0x7f50b7cb7cf8>"
      ]
     },
     "execution_count": 20,
     "metadata": {},
     "output_type": "execute_result"
    }
   ],
   "source": [
    "pd.crosstab(train['Sex'], train['Survived']).style.background_gradient(cmap='cool')"
   ]
  },
  {
   "cell_type": "code",
   "execution_count": 21,
   "metadata": {},
   "outputs": [
    {
     "data": {
      "image/png": "[encoded data removed]",
      "text/plain": [
       "<Figure size 1080x360 with 2 Axes>"
      ]
     },
     "metadata": {
      "needs_background": "light"
     },
     "output_type": "display_data"
    }
   ],
   "source": [
    "fix, ax = plt.subplots(1, 2, figsize=(15, 5))\n",
    "train.groupby(['Sex', 'Survived']).size().unstack().plot(kind='bar', stacked=True, ax=ax[0])\n",
    "train.groupby(['Sex', 'Survived']).size().unstack().plot(kind='bar', stacked=False, ax=ax[1])\n",
    "\n",
    "ax[0].set_title('Sex vs Survived - Stacked')\n",
    "ax[1].set_title('Sex vs Survived - Side by Size')\n",
    "plt.show()"
   ]
  },
  {
   "cell_type": "markdown",
   "metadata": {},
   "source": [
    "> **Observation(s)** \n",
    "- Women had a better chance of survival than men"
   ]
  },
  {
   "cell_type": "markdown",
   "metadata": {},
   "source": [
    "### 3. Pclass, Sex and Survival"
   ]
  },
  {
   "cell_type": "code",
   "execution_count": 22,
   "metadata": {},
   "outputs": [
    {
     "data": {
      "text/html": [
       "<style  type=\"text/css\" >\n",
       "    #T_fe07a210_b47f_11e9_8e1d_1514c12b8259row0_col0 {\n",
       "            background-color:  #00ffff;\n",
       "        }    #T_fe07a210_b47f_11e9_8e1d_1514c12b8259row0_col1 {\n",
       "            background-color:  #00ffff;\n",
       "        }    #T_fe07a210_b47f_11e9_8e1d_1514c12b8259row0_col2 {\n",
       "            background-color:  #0ef1ff;\n",
       "        }    #T_fe07a210_b47f_11e9_8e1d_1514c12b8259row0_col3 {\n",
       "            background-color:  #00ffff;\n",
       "        }    #T_fe07a210_b47f_11e9_8e1d_1514c12b8259row1_col0 {\n",
       "            background-color:  #6996ff;\n",
       "        }    #T_fe07a210_b47f_11e9_8e1d_1514c12b8259row1_col1 {\n",
       "            background-color:  #5ca3ff;\n",
       "        }    #T_fe07a210_b47f_11e9_8e1d_1514c12b8259row1_col2 {\n",
       "            background-color:  #0ef1ff;\n",
       "        }    #T_fe07a210_b47f_11e9_8e1d_1514c12b8259row1_col3 {\n",
       "            background-color:  #30cfff;\n",
       "        }    #T_fe07a210_b47f_11e9_8e1d_1514c12b8259row2_col0 {\n",
       "            background-color:  #58a7ff;\n",
       "        }    #T_fe07a210_b47f_11e9_8e1d_1514c12b8259row2_col1 {\n",
       "            background-color:  #7a85ff;\n",
       "        }    #T_fe07a210_b47f_11e9_8e1d_1514c12b8259row2_col2 {\n",
       "            background-color:  #916eff;\n",
       "        }    #T_fe07a210_b47f_11e9_8e1d_1514c12b8259row2_col3 {\n",
       "            background-color:  #7a85ff;\n",
       "        }    #T_fe07a210_b47f_11e9_8e1d_1514c12b8259row3_col0 {\n",
       "            background-color:  #32cdff;\n",
       "        }    #T_fe07a210_b47f_11e9_8e1d_1514c12b8259row3_col1 {\n",
       "            background-color:  #0ff0ff;\n",
       "        }    #T_fe07a210_b47f_11e9_8e1d_1514c12b8259row3_col2 {\n",
       "            background-color:  #00ffff;\n",
       "        }    #T_fe07a210_b47f_11e9_8e1d_1514c12b8259row3_col3 {\n",
       "            background-color:  #08f7ff;\n",
       "        }    #T_fe07a210_b47f_11e9_8e1d_1514c12b8259row4_col0 {\n",
       "            background-color:  #ff00ff;\n",
       "        }    #T_fe07a210_b47f_11e9_8e1d_1514c12b8259row4_col1 {\n",
       "            background-color:  #ff00ff;\n",
       "        }    #T_fe07a210_b47f_11e9_8e1d_1514c12b8259row4_col2 {\n",
       "            background-color:  #ff00ff;\n",
       "        }    #T_fe07a210_b47f_11e9_8e1d_1514c12b8259row4_col3 {\n",
       "            background-color:  #ff00ff;\n",
       "        }</style>  \n",
       "<table id=\"T_fe07a210_b47f_11e9_8e1d_1514c12b8259\" > \n",
       "<thead>    <tr> \n",
       "        <th class=\"blank\" ></th> \n",
       "        <th class=\"index_name level0\" >Pclass</th> \n",
       "        <th class=\"col_heading level0 col0\" >1</th> \n",
       "        <th class=\"col_heading level0 col1\" >2</th> \n",
       "        <th class=\"col_heading level0 col2\" >3</th> \n",
       "        <th class=\"col_heading level0 col3\" >All</th> \n",
       "    </tr>    <tr> \n",
       "        <th class=\"index_name level0\" >Sex</th> \n",
       "        <th class=\"index_name level1\" >Survived</th> \n",
       "        <th class=\"blank\" ></th> \n",
       "        <th class=\"blank\" ></th> \n",
       "        <th class=\"blank\" ></th> \n",
       "        <th class=\"blank\" ></th> \n",
       "    </tr></thead> \n",
       "<tbody>    <tr> \n",
       "        <th id=\"T_fe07a210_b47f_11e9_8e1d_1514c12b8259level0_row0\" class=\"row_heading level0 row0\" rowspan=2>female</th> \n",
       "        <th id=\"T_fe07a210_b47f_11e9_8e1d_1514c12b8259level1_row0\" class=\"row_heading level1 row0\" >0</th> \n",
       "        <td id=\"T_fe07a210_b47f_11e9_8e1d_1514c12b8259row0_col0\" class=\"data row0 col0\" >3</td> \n",
       "        <td id=\"T_fe07a210_b47f_11e9_8e1d_1514c12b8259row0_col1\" class=\"data row0 col1\" >6</td> \n",
       "        <td id=\"T_fe07a210_b47f_11e9_8e1d_1514c12b8259row0_col2\" class=\"data row0 col2\" >72</td> \n",
       "        <td id=\"T_fe07a210_b47f_11e9_8e1d_1514c12b8259row0_col3\" class=\"data row0 col3\" >81</td> \n",
       "    </tr>    <tr> \n",
       "        <th id=\"T_fe07a210_b47f_11e9_8e1d_1514c12b8259level1_row1\" class=\"row_heading level1 row1\" >1</th> \n",
       "        <td id=\"T_fe07a210_b47f_11e9_8e1d_1514c12b8259row1_col0\" class=\"data row1 col0\" >91</td> \n",
       "        <td id=\"T_fe07a210_b47f_11e9_8e1d_1514c12b8259row1_col1\" class=\"data row1 col1\" >70</td> \n",
       "        <td id=\"T_fe07a210_b47f_11e9_8e1d_1514c12b8259row1_col2\" class=\"data row1 col2\" >72</td> \n",
       "        <td id=\"T_fe07a210_b47f_11e9_8e1d_1514c12b8259row1_col3\" class=\"data row1 col3\" >233</td> \n",
       "    </tr>    <tr> \n",
       "        <th id=\"T_fe07a210_b47f_11e9_8e1d_1514c12b8259level0_row2\" class=\"row_heading level0 row2\" rowspan=2>male</th> \n",
       "        <th id=\"T_fe07a210_b47f_11e9_8e1d_1514c12b8259level1_row2\" class=\"row_heading level1 row2\" >0</th> \n",
       "        <td id=\"T_fe07a210_b47f_11e9_8e1d_1514c12b8259row2_col0\" class=\"data row2 col0\" >77</td> \n",
       "        <td id=\"T_fe07a210_b47f_11e9_8e1d_1514c12b8259row2_col1\" class=\"data row2 col1\" >91</td> \n",
       "        <td id=\"T_fe07a210_b47f_11e9_8e1d_1514c12b8259row2_col2\" class=\"data row2 col2\" >300</td> \n",
       "        <td id=\"T_fe07a210_b47f_11e9_8e1d_1514c12b8259row2_col3\" class=\"data row2 col3\" >468</td> \n",
       "    </tr>    <tr> \n",
       "        <th id=\"T_fe07a210_b47f_11e9_8e1d_1514c12b8259level1_row3\" class=\"row_heading level1 row3\" >1</th> \n",
       "        <td id=\"T_fe07a210_b47f_11e9_8e1d_1514c12b8259row3_col0\" class=\"data row3 col0\" >45</td> \n",
       "        <td id=\"T_fe07a210_b47f_11e9_8e1d_1514c12b8259row3_col1\" class=\"data row3 col1\" >17</td> \n",
       "        <td id=\"T_fe07a210_b47f_11e9_8e1d_1514c12b8259row3_col2\" class=\"data row3 col2\" >47</td> \n",
       "        <td id=\"T_fe07a210_b47f_11e9_8e1d_1514c12b8259row3_col3\" class=\"data row3 col3\" >109</td> \n",
       "    </tr>    <tr> \n",
       "        <th id=\"T_fe07a210_b47f_11e9_8e1d_1514c12b8259level0_row4\" class=\"row_heading level0 row4\" >All</th> \n",
       "        <th id=\"T_fe07a210_b47f_11e9_8e1d_1514c12b8259level1_row4\" class=\"row_heading level1 row4\" ></th> \n",
       "        <td id=\"T_fe07a210_b47f_11e9_8e1d_1514c12b8259row4_col0\" class=\"data row4 col0\" >216</td> \n",
       "        <td id=\"T_fe07a210_b47f_11e9_8e1d_1514c12b8259row4_col1\" class=\"data row4 col1\" >184</td> \n",
       "        <td id=\"T_fe07a210_b47f_11e9_8e1d_1514c12b8259row4_col2\" class=\"data row4 col2\" >491</td> \n",
       "        <td id=\"T_fe07a210_b47f_11e9_8e1d_1514c12b8259row4_col3\" class=\"data row4 col3\" >891</td> \n",
       "    </tr></tbody> \n",
       "</table> "
      ],
      "text/plain": [
       "<pandas.io.formats.style.Styler at 0x7f50b7d51128>"
      ]
     },
     "execution_count": 22,
     "metadata": {},
     "output_type": "execute_result"
    }
   ],
   "source": [
    "# How does Pclass and Sex together compare wrt Survival ?\n",
    "\n",
    "pd.crosstab([train['Sex'], train['Survived']], train['Pclass'], margins=True).style.background_gradient(cmap='cool')"
   ]
  },
  {
   "cell_type": "code",
   "execution_count": 23,
   "metadata": {},
   "outputs": [
    {
     "data": {
      "text/html": [
       "<style  type=\"text/css\" >\n",
       "    #T_fe0d6132_b47f_11e9_8e1d_1514c12b8259row0_col0 {\n",
       "            background-color:  #ff00ff;\n",
       "        }    #T_fe0d6132_b47f_11e9_8e1d_1514c12b8259row0_col1 {\n",
       "            background-color:  #ff00ff;\n",
       "        }    #T_fe0d6132_b47f_11e9_8e1d_1514c12b8259row1_col0 {\n",
       "            background-color:  #e619ff;\n",
       "        }    #T_fe0d6132_b47f_11e9_8e1d_1514c12b8259row1_col1 {\n",
       "            background-color:  #18e7ff;\n",
       "        }    #T_fe0d6132_b47f_11e9_8e1d_1514c12b8259row2_col0 {\n",
       "            background-color:  #00ffff;\n",
       "        }    #T_fe0d6132_b47f_11e9_8e1d_1514c12b8259row2_col1 {\n",
       "            background-color:  #00ffff;\n",
       "        }</style>  \n",
       "<table id=\"T_fe0d6132_b47f_11e9_8e1d_1514c12b8259\" > \n",
       "<thead>    <tr> \n",
       "        <th class=\"index_name level0\" >Sex</th> \n",
       "        <th class=\"col_heading level0 col0\" >female</th> \n",
       "        <th class=\"col_heading level0 col1\" >male</th> \n",
       "    </tr>    <tr> \n",
       "        <th class=\"index_name level0\" >Pclass</th> \n",
       "        <th class=\"blank\" ></th> \n",
       "        <th class=\"blank\" ></th> \n",
       "    </tr></thead> \n",
       "<tbody>    <tr> \n",
       "        <th id=\"T_fe0d6132_b47f_11e9_8e1d_1514c12b8259level0_row0\" class=\"row_heading level0 row0\" >1</th> \n",
       "        <td id=\"T_fe0d6132_b47f_11e9_8e1d_1514c12b8259row0_col0\" class=\"data row0 col0\" >0.968085</td> \n",
       "        <td id=\"T_fe0d6132_b47f_11e9_8e1d_1514c12b8259row0_col1\" class=\"data row0 col1\" >0.368852</td> \n",
       "    </tr>    <tr> \n",
       "        <th id=\"T_fe0d6132_b47f_11e9_8e1d_1514c12b8259level0_row1\" class=\"row_heading level0 row1\" >2</th> \n",
       "        <td id=\"T_fe0d6132_b47f_11e9_8e1d_1514c12b8259row1_col0\" class=\"data row1 col0\" >0.921053</td> \n",
       "        <td id=\"T_fe0d6132_b47f_11e9_8e1d_1514c12b8259row1_col1\" class=\"data row1 col1\" >0.157407</td> \n",
       "    </tr>    <tr> \n",
       "        <th id=\"T_fe0d6132_b47f_11e9_8e1d_1514c12b8259level0_row2\" class=\"row_heading level0 row2\" >3</th> \n",
       "        <td id=\"T_fe0d6132_b47f_11e9_8e1d_1514c12b8259row2_col0\" class=\"data row2 col0\" >0.5</td> \n",
       "        <td id=\"T_fe0d6132_b47f_11e9_8e1d_1514c12b8259row2_col1\" class=\"data row2 col1\" >0.135447</td> \n",
       "    </tr></tbody> \n",
       "</table> "
      ],
      "text/plain": [
       "<pandas.io.formats.style.Styler at 0x7f50b7bf8470>"
      ]
     },
     "execution_count": 23,
     "metadata": {},
     "output_type": "execute_result"
    }
   ],
   "source": [
    "train.groupby('Pclass').apply(lambda x:x.groupby('Sex')['Survived'].mean()).style.background_gradient(cmap='cool')"
   ]
  },
  {
   "cell_type": "code",
   "execution_count": 24,
   "metadata": {},
   "outputs": [
    {
     "data": {
      "image/png": "[encoded data removed]",
      "text/plain": [
       "<Figure size 430.5x360 with 1 Axes>"
      ]
     },
     "metadata": {
      "needs_background": "light"
     },
     "output_type": "display_data"
    }
   ],
   "source": [
    "sns.catplot('Pclass', 'Survived', hue='Sex', data=train, kind='point')\n",
    "plt.show()"
   ]
  },
  {
   "cell_type": "markdown",
   "metadata": {},
   "source": [
    "> **Observation(s)** \n",
    "- Women from 1st class and 2nd class had a better chance of survival. ( ~96% and 92% on average)\n",
    "- Women from 3rd class had lesser chance compared to women from other classes (~50%) but still better than men in any class \n",
    "- Men from all classes had lesser chance of survival overall. This agrees with the dictum - Women and children were given priority"
   ]
  },
  {
   "cell_type": "markdown",
   "metadata": {},
   "source": [
    "## <a id='2.3'>2.3. Other attributes </a> "
   ]
  },
  {
   "cell_type": "markdown",
   "metadata": {},
   "source": [
    "### 4. SibSp"
   ]
  },
  {
   "cell_type": "code",
   "execution_count": 25,
   "metadata": {},
   "outputs": [
    {
     "data": {
      "text/html": [
       "<style  type=\"text/css\" >\n",
       "    #T_fe47f52c_b47f_11e9_8e1d_1514c12b8259row0_col0 {\n",
       "            background-color:  #00ffff;\n",
       "        }    #T_fe47f52c_b47f_11e9_8e1d_1514c12b8259row0_col1 {\n",
       "            background-color:  #a55aff;\n",
       "        }    #T_fe47f52c_b47f_11e9_8e1d_1514c12b8259row1_col0 {\n",
       "            background-color:  #20dfff;\n",
       "        }    #T_fe47f52c_b47f_11e9_8e1d_1514c12b8259row1_col1 {\n",
       "            background-color:  #ff00ff;\n",
       "        }    #T_fe47f52c_b47f_11e9_8e1d_1514c12b8259row2_col0 {\n",
       "            background-color:  #40bfff;\n",
       "        }    #T_fe47f52c_b47f_11e9_8e1d_1514c12b8259row2_col1 {\n",
       "            background-color:  #dd22ff;\n",
       "        }    #T_fe47f52c_b47f_11e9_8e1d_1514c12b8259row3_col0 {\n",
       "            background-color:  #609fff;\n",
       "        }    #T_fe47f52c_b47f_11e9_8e1d_1514c12b8259row3_col1 {\n",
       "            background-color:  #7788ff;\n",
       "        }    #T_fe47f52c_b47f_11e9_8e1d_1514c12b8259row4_col0 {\n",
       "            background-color:  #807fff;\n",
       "        }    #T_fe47f52c_b47f_11e9_8e1d_1514c12b8259row4_col1 {\n",
       "            background-color:  #4fb0ff;\n",
       "        }    #T_fe47f52c_b47f_11e9_8e1d_1514c12b8259row5_col0 {\n",
       "            background-color:  #a05fff;\n",
       "        }    #T_fe47f52c_b47f_11e9_8e1d_1514c12b8259row5_col1 {\n",
       "            background-color:  #00ffff;\n",
       "        }    #T_fe47f52c_b47f_11e9_8e1d_1514c12b8259row6_col0 {\n",
       "            background-color:  #ff00ff;\n",
       "        }    #T_fe47f52c_b47f_11e9_8e1d_1514c12b8259row6_col1 {\n",
       "            background-color:  #00ffff;\n",
       "        }</style>  \n",
       "<table id=\"T_fe47f52c_b47f_11e9_8e1d_1514c12b8259\" > \n",
       "<thead>    <tr> \n",
       "        <th class=\"blank level0\" ></th> \n",
       "        <th class=\"col_heading level0 col0\" >SibSp</th> \n",
       "        <th class=\"col_heading level0 col1\" >Survived</th> \n",
       "    </tr></thead> \n",
       "<tbody>    <tr> \n",
       "        <th id=\"T_fe47f52c_b47f_11e9_8e1d_1514c12b8259level0_row0\" class=\"row_heading level0 row0\" >0</th> \n",
       "        <td id=\"T_fe47f52c_b47f_11e9_8e1d_1514c12b8259row0_col0\" class=\"data row0 col0\" >0</td> \n",
       "        <td id=\"T_fe47f52c_b47f_11e9_8e1d_1514c12b8259row0_col1\" class=\"data row0 col1\" >0.345395</td> \n",
       "    </tr>    <tr> \n",
       "        <th id=\"T_fe47f52c_b47f_11e9_8e1d_1514c12b8259level0_row1\" class=\"row_heading level0 row1\" >1</th> \n",
       "        <td id=\"T_fe47f52c_b47f_11e9_8e1d_1514c12b8259row1_col0\" class=\"data row1 col0\" >1</td> \n",
       "        <td id=\"T_fe47f52c_b47f_11e9_8e1d_1514c12b8259row1_col1\" class=\"data row1 col1\" >0.535885</td> \n",
       "    </tr>    <tr> \n",
       "        <th id=\"T_fe47f52c_b47f_11e9_8e1d_1514c12b8259level0_row2\" class=\"row_heading level0 row2\" >2</th> \n",
       "        <td id=\"T_fe47f52c_b47f_11e9_8e1d_1514c12b8259row2_col0\" class=\"data row2 col0\" >2</td> \n",
       "        <td id=\"T_fe47f52c_b47f_11e9_8e1d_1514c12b8259row2_col1\" class=\"data row2 col1\" >0.464286</td> \n",
       "    </tr>    <tr> \n",
       "        <th id=\"T_fe47f52c_b47f_11e9_8e1d_1514c12b8259level0_row3\" class=\"row_heading level0 row3\" >3</th> \n",
       "        <td id=\"T_fe47f52c_b47f_11e9_8e1d_1514c12b8259row3_col0\" class=\"data row3 col0\" >3</td> \n",
       "        <td id=\"T_fe47f52c_b47f_11e9_8e1d_1514c12b8259row3_col1\" class=\"data row3 col1\" >0.25</td> \n",
       "    </tr>    <tr> \n",
       "        <th id=\"T_fe47f52c_b47f_11e9_8e1d_1514c12b8259level0_row4\" class=\"row_heading level0 row4\" >4</th> \n",
       "        <td id=\"T_fe47f52c_b47f_11e9_8e1d_1514c12b8259row4_col0\" class=\"data row4 col0\" >4</td> \n",
       "        <td id=\"T_fe47f52c_b47f_11e9_8e1d_1514c12b8259row4_col1\" class=\"data row4 col1\" >0.166667</td> \n",
       "    </tr>    <tr> \n",
       "        <th id=\"T_fe47f52c_b47f_11e9_8e1d_1514c12b8259level0_row5\" class=\"row_heading level0 row5\" >5</th> \n",
       "        <td id=\"T_fe47f52c_b47f_11e9_8e1d_1514c12b8259row5_col0\" class=\"data row5 col0\" >5</td> \n",
       "        <td id=\"T_fe47f52c_b47f_11e9_8e1d_1514c12b8259row5_col1\" class=\"data row5 col1\" >0</td> \n",
       "    </tr>    <tr> \n",
       "        <th id=\"T_fe47f52c_b47f_11e9_8e1d_1514c12b8259level0_row6\" class=\"row_heading level0 row6\" >6</th> \n",
       "        <td id=\"T_fe47f52c_b47f_11e9_8e1d_1514c12b8259row6_col0\" class=\"data row6 col0\" >8</td> \n",
       "        <td id=\"T_fe47f52c_b47f_11e9_8e1d_1514c12b8259row6_col1\" class=\"data row6 col1\" >0</td> \n",
       "    </tr></tbody> \n",
       "</table> "
      ],
      "text/plain": [
       "<pandas.io.formats.style.Styler at 0x7f50b84a58d0>"
      ]
     },
     "execution_count": 25,
     "metadata": {},
     "output_type": "execute_result"
    }
   ],
   "source": [
    "train[['SibSp', 'Survived']].groupby(['SibSp'], as_index=False).mean().style.background_gradient(cmap='cool')"
   ]
  },
  {
   "cell_type": "code",
   "execution_count": 26,
   "metadata": {},
   "outputs": [
    {
     "data": {
      "text/html": [
       "<style  type=\"text/css\" >\n",
       "    #T_fe4f0254_b47f_11e9_8e1d_1514c12b8259row0_col0 {\n",
       "            background-color:  #ff00ff;\n",
       "        }    #T_fe4f0254_b47f_11e9_8e1d_1514c12b8259row0_col1 {\n",
       "            background-color:  #ff00ff;\n",
       "        }    #T_fe4f0254_b47f_11e9_8e1d_1514c12b8259row1_col0 {\n",
       "            background-color:  #3bc4ff;\n",
       "        }    #T_fe4f0254_b47f_11e9_8e1d_1514c12b8259row1_col1 {\n",
       "            background-color:  #8877ff;\n",
       "        }    #T_fe4f0254_b47f_11e9_8e1d_1514c12b8259row2_col0 {\n",
       "            background-color:  #06f9ff;\n",
       "        }    #T_fe4f0254_b47f_11e9_8e1d_1514c12b8259row2_col1 {\n",
       "            background-color:  #0ff0ff;\n",
       "        }    #T_fe4f0254_b47f_11e9_8e1d_1514c12b8259row3_col0 {\n",
       "            background-color:  #04fbff;\n",
       "        }    #T_fe4f0254_b47f_11e9_8e1d_1514c12b8259row3_col1 {\n",
       "            background-color:  #04fbff;\n",
       "        }    #T_fe4f0254_b47f_11e9_8e1d_1514c12b8259row4_col0 {\n",
       "            background-color:  #06f9ff;\n",
       "        }    #T_fe4f0254_b47f_11e9_8e1d_1514c12b8259row4_col1 {\n",
       "            background-color:  #03fcff;\n",
       "        }    #T_fe4f0254_b47f_11e9_8e1d_1514c12b8259row5_col0 {\n",
       "            background-color:  #00ffff;\n",
       "        }    #T_fe4f0254_b47f_11e9_8e1d_1514c12b8259row5_col1 {\n",
       "            background-color:  #00ffff;\n",
       "        }    #T_fe4f0254_b47f_11e9_8e1d_1514c12b8259row6_col0 {\n",
       "            background-color:  #01feff;\n",
       "        }    #T_fe4f0254_b47f_11e9_8e1d_1514c12b8259row6_col1 {\n",
       "            background-color:  #00ffff;\n",
       "        }</style>  \n",
       "<table id=\"T_fe4f0254_b47f_11e9_8e1d_1514c12b8259\" > \n",
       "<thead>    <tr> \n",
       "        <th class=\"index_name level0\" >Survived</th> \n",
       "        <th class=\"col_heading level0 col0\" >0</th> \n",
       "        <th class=\"col_heading level0 col1\" >1</th> \n",
       "    </tr>    <tr> \n",
       "        <th class=\"index_name level0\" >SibSp</th> \n",
       "        <th class=\"blank\" ></th> \n",
       "        <th class=\"blank\" ></th> \n",
       "    </tr></thead> \n",
       "<tbody>    <tr> \n",
       "        <th id=\"T_fe4f0254_b47f_11e9_8e1d_1514c12b8259level0_row0\" class=\"row_heading level0 row0\" >0</th> \n",
       "        <td id=\"T_fe4f0254_b47f_11e9_8e1d_1514c12b8259row0_col0\" class=\"data row0 col0\" >398</td> \n",
       "        <td id=\"T_fe4f0254_b47f_11e9_8e1d_1514c12b8259row0_col1\" class=\"data row0 col1\" >210</td> \n",
       "    </tr>    <tr> \n",
       "        <th id=\"T_fe4f0254_b47f_11e9_8e1d_1514c12b8259level0_row1\" class=\"row_heading level0 row1\" >1</th> \n",
       "        <td id=\"T_fe4f0254_b47f_11e9_8e1d_1514c12b8259row1_col0\" class=\"data row1 col0\" >97</td> \n",
       "        <td id=\"T_fe4f0254_b47f_11e9_8e1d_1514c12b8259row1_col1\" class=\"data row1 col1\" >112</td> \n",
       "    </tr>    <tr> \n",
       "        <th id=\"T_fe4f0254_b47f_11e9_8e1d_1514c12b8259level0_row2\" class=\"row_heading level0 row2\" >2</th> \n",
       "        <td id=\"T_fe4f0254_b47f_11e9_8e1d_1514c12b8259row2_col0\" class=\"data row2 col0\" >15</td> \n",
       "        <td id=\"T_fe4f0254_b47f_11e9_8e1d_1514c12b8259row2_col1\" class=\"data row2 col1\" >13</td> \n",
       "    </tr>    <tr> \n",
       "        <th id=\"T_fe4f0254_b47f_11e9_8e1d_1514c12b8259level0_row3\" class=\"row_heading level0 row3\" >3</th> \n",
       "        <td id=\"T_fe4f0254_b47f_11e9_8e1d_1514c12b8259row3_col0\" class=\"data row3 col0\" >12</td> \n",
       "        <td id=\"T_fe4f0254_b47f_11e9_8e1d_1514c12b8259row3_col1\" class=\"data row3 col1\" >4</td> \n",
       "    </tr>    <tr> \n",
       "        <th id=\"T_fe4f0254_b47f_11e9_8e1d_1514c12b8259level0_row4\" class=\"row_heading level0 row4\" >4</th> \n",
       "        <td id=\"T_fe4f0254_b47f_11e9_8e1d_1514c12b8259row4_col0\" class=\"data row4 col0\" >15</td> \n",
       "        <td id=\"T_fe4f0254_b47f_11e9_8e1d_1514c12b8259row4_col1\" class=\"data row4 col1\" >3</td> \n",
       "    </tr>    <tr> \n",
       "        <th id=\"T_fe4f0254_b47f_11e9_8e1d_1514c12b8259level0_row5\" class=\"row_heading level0 row5\" >5</th> \n",
       "        <td id=\"T_fe4f0254_b47f_11e9_8e1d_1514c12b8259row5_col0\" class=\"data row5 col0\" >5</td> \n",
       "        <td id=\"T_fe4f0254_b47f_11e9_8e1d_1514c12b8259row5_col1\" class=\"data row5 col1\" >0</td> \n",
       "    </tr>    <tr> \n",
       "        <th id=\"T_fe4f0254_b47f_11e9_8e1d_1514c12b8259level0_row6\" class=\"row_heading level0 row6\" >8</th> \n",
       "        <td id=\"T_fe4f0254_b47f_11e9_8e1d_1514c12b8259row6_col0\" class=\"data row6 col0\" >7</td> \n",
       "        <td id=\"T_fe4f0254_b47f_11e9_8e1d_1514c12b8259row6_col1\" class=\"data row6 col1\" >0</td> \n",
       "    </tr></tbody> \n",
       "</table> "
      ],
      "text/plain": [
       "<pandas.io.formats.style.Styler at 0x7f50b7c61748>"
      ]
     },
     "execution_count": 26,
     "metadata": {},
     "output_type": "execute_result"
    }
   ],
   "source": [
    "pd.crosstab(train['SibSp'], train['Survived']).style.background_gradient(cmap='cool')"
   ]
  },
  {
   "cell_type": "code",
   "execution_count": 27,
   "metadata": {},
   "outputs": [
    {
     "data": {
      "image/png": "[encoded data removed]",
      "text/plain": [
       "<Figure size 1440x1080 with 4 Axes>"
      ]
     },
     "metadata": {
      "needs_background": "light"
     },
     "output_type": "display_data"
    }
   ],
   "source": [
    "fig, ax = plt.subplots(2,2, figsize=(20, 15))\n",
    "\n",
    "train.groupby(['SibSp', 'Survived']).size().unstack().plot(kind='bar', stacked=True, ax=ax[0, 0])\n",
    "train.groupby(['SibSp', 'Survived']).size().unstack().plot(kind='bar', stacked=False, ax=ax[0, 1])\n",
    "ax[0, 0].set_title('SibSp vs Survived - Count - Stacked')\n",
    "ax[0, 1].set_title('SibSp vs Survived - Count - Side by Side')\n",
    "\n",
    "sns.barplot('SibSp','Survived', data=train, ax=ax[1, 0])\n",
    "ax[1, 0].set_title('SibSp vs Survived - %age')\n",
    "\n",
    "sns.catplot('SibSp','Survived', data=train, ax=ax[1, 1], kind='point')\n",
    "ax[1, 1].set_title('SibSp vs Survived - %age')\n",
    "\n",
    "plt.close(2)\n",
    "plt.show()"
   ]
  },
  {
   "cell_type": "markdown",
   "metadata": {},
   "source": [
    "> **Observation(s)** \n",
    "- Passengers with 1 sibling - had better chance of survival. More than that survival chances start to decline "
   ]
  },
  {
   "cell_type": "markdown",
   "metadata": {},
   "source": [
    "### 5. Parch"
   ]
  },
  {
   "cell_type": "code",
   "execution_count": 28,
   "metadata": {},
   "outputs": [
    {
     "data": {
      "text/html": [
       "<style  type=\"text/css\" >\n",
       "    #T_fef9b9d8_b47f_11e9_8e1d_1514c12b8259row0_col0 {\n",
       "            background-color:  #00ffff;\n",
       "        }    #T_fef9b9d8_b47f_11e9_8e1d_1514c12b8259row0_col1 {\n",
       "            background-color:  #926dff;\n",
       "        }    #T_fef9b9d8_b47f_11e9_8e1d_1514c12b8259row1_col0 {\n",
       "            background-color:  #2ad5ff;\n",
       "        }    #T_fef9b9d8_b47f_11e9_8e1d_1514c12b8259row1_col1 {\n",
       "            background-color:  #eb14ff;\n",
       "        }    #T_fef9b9d8_b47f_11e9_8e1d_1514c12b8259row2_col0 {\n",
       "            background-color:  #55aaff;\n",
       "        }    #T_fef9b9d8_b47f_11e9_8e1d_1514c12b8259row2_col1 {\n",
       "            background-color:  #d52aff;\n",
       "        }    #T_fef9b9d8_b47f_11e9_8e1d_1514c12b8259row3_col0 {\n",
       "            background-color:  #807fff;\n",
       "        }    #T_fef9b9d8_b47f_11e9_8e1d_1514c12b8259row3_col1 {\n",
       "            background-color:  #ff00ff;\n",
       "        }    #T_fef9b9d8_b47f_11e9_8e1d_1514c12b8259row4_col0 {\n",
       "            background-color:  #aa55ff;\n",
       "        }    #T_fef9b9d8_b47f_11e9_8e1d_1514c12b8259row4_col1 {\n",
       "            background-color:  #00ffff;\n",
       "        }    #T_fef9b9d8_b47f_11e9_8e1d_1514c12b8259row5_col0 {\n",
       "            background-color:  #d52aff;\n",
       "        }    #T_fef9b9d8_b47f_11e9_8e1d_1514c12b8259row5_col1 {\n",
       "            background-color:  #55aaff;\n",
       "        }    #T_fef9b9d8_b47f_11e9_8e1d_1514c12b8259row6_col0 {\n",
       "            background-color:  #ff00ff;\n",
       "        }    #T_fef9b9d8_b47f_11e9_8e1d_1514c12b8259row6_col1 {\n",
       "            background-color:  #00ffff;\n",
       "        }</style>  \n",
       "<table id=\"T_fef9b9d8_b47f_11e9_8e1d_1514c12b8259\" > \n",
       "<thead>    <tr> \n",
       "        <th class=\"blank level0\" ></th> \n",
       "        <th class=\"col_heading level0 col0\" >Parch</th> \n",
       "        <th class=\"col_heading level0 col1\" >Survived</th> \n",
       "    </tr></thead> \n",
       "<tbody>    <tr> \n",
       "        <th id=\"T_fef9b9d8_b47f_11e9_8e1d_1514c12b8259level0_row0\" class=\"row_heading level0 row0\" >0</th> \n",
       "        <td id=\"T_fef9b9d8_b47f_11e9_8e1d_1514c12b8259row0_col0\" class=\"data row0 col0\" >0</td> \n",
       "        <td id=\"T_fef9b9d8_b47f_11e9_8e1d_1514c12b8259row0_col1\" class=\"data row0 col1\" >0.343658</td> \n",
       "    </tr>    <tr> \n",
       "        <th id=\"T_fef9b9d8_b47f_11e9_8e1d_1514c12b8259level0_row1\" class=\"row_heading level0 row1\" >1</th> \n",
       "        <td id=\"T_fef9b9d8_b47f_11e9_8e1d_1514c12b8259row1_col0\" class=\"data row1 col0\" >1</td> \n",
       "        <td id=\"T_fef9b9d8_b47f_11e9_8e1d_1514c12b8259row1_col1\" class=\"data row1 col1\" >0.550847</td> \n",
       "    </tr>    <tr> \n",
       "        <th id=\"T_fef9b9d8_b47f_11e9_8e1d_1514c12b8259level0_row2\" class=\"row_heading level0 row2\" >2</th> \n",
       "        <td id=\"T_fef9b9d8_b47f_11e9_8e1d_1514c12b8259row2_col0\" class=\"data row2 col0\" >2</td> \n",
       "        <td id=\"T_fef9b9d8_b47f_11e9_8e1d_1514c12b8259row2_col1\" class=\"data row2 col1\" >0.5</td> \n",
       "    </tr>    <tr> \n",
       "        <th id=\"T_fef9b9d8_b47f_11e9_8e1d_1514c12b8259level0_row3\" class=\"row_heading level0 row3\" >3</th> \n",
       "        <td id=\"T_fef9b9d8_b47f_11e9_8e1d_1514c12b8259row3_col0\" class=\"data row3 col0\" >3</td> \n",
       "        <td id=\"T_fef9b9d8_b47f_11e9_8e1d_1514c12b8259row3_col1\" class=\"data row3 col1\" >0.6</td> \n",
       "    </tr>    <tr> \n",
       "        <th id=\"T_fef9b9d8_b47f_11e9_8e1d_1514c12b8259level0_row4\" class=\"row_heading level0 row4\" >4</th> \n",
       "        <td id=\"T_fef9b9d8_b47f_11e9_8e1d_1514c12b8259row4_col0\" class=\"data row4 col0\" >4</td> \n",
       "        <td id=\"T_fef9b9d8_b47f_11e9_8e1d_1514c12b8259row4_col1\" class=\"data row4 col1\" >0</td> \n",
       "    </tr>    <tr> \n",
       "        <th id=\"T_fef9b9d8_b47f_11e9_8e1d_1514c12b8259level0_row5\" class=\"row_heading level0 row5\" >5</th> \n",
       "        <td id=\"T_fef9b9d8_b47f_11e9_8e1d_1514c12b8259row5_col0\" class=\"data row5 col0\" >5</td> \n",
       "        <td id=\"T_fef9b9d8_b47f_11e9_8e1d_1514c12b8259row5_col1\" class=\"data row5 col1\" >0.2</td> \n",
       "    </tr>    <tr> \n",
       "        <th id=\"T_fef9b9d8_b47f_11e9_8e1d_1514c12b8259level0_row6\" class=\"row_heading level0 row6\" >6</th> \n",
       "        <td id=\"T_fef9b9d8_b47f_11e9_8e1d_1514c12b8259row6_col0\" class=\"data row6 col0\" >6</td> \n",
       "        <td id=\"T_fef9b9d8_b47f_11e9_8e1d_1514c12b8259row6_col1\" class=\"data row6 col1\" >0</td> \n",
       "    </tr></tbody> \n",
       "</table> "
      ],
      "text/plain": [
       "<pandas.io.formats.style.Styler at 0x7f50b7b89c18>"
      ]
     },
     "execution_count": 28,
     "metadata": {},
     "output_type": "execute_result"
    }
   ],
   "source": [
    "train[['Parch', 'Survived']].groupby(['Parch'], as_index=False).mean().style.background_gradient(cmap='cool')"
   ]
  },
  {
   "cell_type": "code",
   "execution_count": 29,
   "metadata": {},
   "outputs": [
    {
     "data": {
      "text/html": [
       "<style  type=\"text/css\" >\n",
       "    #T_ff021e70_b47f_11e9_8e1d_1514c12b8259row0_col0 {\n",
       "            background-color:  #ff00ff;\n",
       "        }    #T_ff021e70_b47f_11e9_8e1d_1514c12b8259row0_col1 {\n",
       "            background-color:  #ff00ff;\n",
       "        }    #T_ff021e70_b47f_11e9_8e1d_1514c12b8259row1_col0 {\n",
       "            background-color:  #1de2ff;\n",
       "        }    #T_ff021e70_b47f_11e9_8e1d_1514c12b8259row1_col1 {\n",
       "            background-color:  #47b8ff;\n",
       "        }    #T_ff021e70_b47f_11e9_8e1d_1514c12b8259row2_col0 {\n",
       "            background-color:  #16e9ff;\n",
       "        }    #T_ff021e70_b47f_11e9_8e1d_1514c12b8259row2_col1 {\n",
       "            background-color:  #2bd4ff;\n",
       "        }    #T_ff021e70_b47f_11e9_8e1d_1514c12b8259row3_col0 {\n",
       "            background-color:  #00ffff;\n",
       "        }    #T_ff021e70_b47f_11e9_8e1d_1514c12b8259row3_col1 {\n",
       "            background-color:  #03fcff;\n",
       "        }    #T_ff021e70_b47f_11e9_8e1d_1514c12b8259row4_col0 {\n",
       "            background-color:  #01feff;\n",
       "        }    #T_ff021e70_b47f_11e9_8e1d_1514c12b8259row4_col1 {\n",
       "            background-color:  #00ffff;\n",
       "        }    #T_ff021e70_b47f_11e9_8e1d_1514c12b8259row5_col0 {\n",
       "            background-color:  #01feff;\n",
       "        }    #T_ff021e70_b47f_11e9_8e1d_1514c12b8259row5_col1 {\n",
       "            background-color:  #01feff;\n",
       "        }    #T_ff021e70_b47f_11e9_8e1d_1514c12b8259row6_col0 {\n",
       "            background-color:  #00ffff;\n",
       "        }    #T_ff021e70_b47f_11e9_8e1d_1514c12b8259row6_col1 {\n",
       "            background-color:  #00ffff;\n",
       "        }</style>  \n",
       "<table id=\"T_ff021e70_b47f_11e9_8e1d_1514c12b8259\" > \n",
       "<thead>    <tr> \n",
       "        <th class=\"index_name level0\" >Survived</th> \n",
       "        <th class=\"col_heading level0 col0\" >0</th> \n",
       "        <th class=\"col_heading level0 col1\" >1</th> \n",
       "    </tr>    <tr> \n",
       "        <th class=\"index_name level0\" >Parch</th> \n",
       "        <th class=\"blank\" ></th> \n",
       "        <th class=\"blank\" ></th> \n",
       "    </tr></thead> \n",
       "<tbody>    <tr> \n",
       "        <th id=\"T_ff021e70_b47f_11e9_8e1d_1514c12b8259level0_row0\" class=\"row_heading level0 row0\" >0</th> \n",
       "        <td id=\"T_ff021e70_b47f_11e9_8e1d_1514c12b8259row0_col0\" class=\"data row0 col0\" >445</td> \n",
       "        <td id=\"T_ff021e70_b47f_11e9_8e1d_1514c12b8259row0_col1\" class=\"data row0 col1\" >233</td> \n",
       "    </tr>    <tr> \n",
       "        <th id=\"T_ff021e70_b47f_11e9_8e1d_1514c12b8259level0_row1\" class=\"row_heading level0 row1\" >1</th> \n",
       "        <td id=\"T_ff021e70_b47f_11e9_8e1d_1514c12b8259row1_col0\" class=\"data row1 col0\" >53</td> \n",
       "        <td id=\"T_ff021e70_b47f_11e9_8e1d_1514c12b8259row1_col1\" class=\"data row1 col1\" >65</td> \n",
       "    </tr>    <tr> \n",
       "        <th id=\"T_ff021e70_b47f_11e9_8e1d_1514c12b8259level0_row2\" class=\"row_heading level0 row2\" >2</th> \n",
       "        <td id=\"T_ff021e70_b47f_11e9_8e1d_1514c12b8259row2_col0\" class=\"data row2 col0\" >40</td> \n",
       "        <td id=\"T_ff021e70_b47f_11e9_8e1d_1514c12b8259row2_col1\" class=\"data row2 col1\" >40</td> \n",
       "    </tr>    <tr> \n",
       "        <th id=\"T_ff021e70_b47f_11e9_8e1d_1514c12b8259level0_row3\" class=\"row_heading level0 row3\" >3</th> \n",
       "        <td id=\"T_ff021e70_b47f_11e9_8e1d_1514c12b8259row3_col0\" class=\"data row3 col0\" >2</td> \n",
       "        <td id=\"T_ff021e70_b47f_11e9_8e1d_1514c12b8259row3_col1\" class=\"data row3 col1\" >3</td> \n",
       "    </tr>    <tr> \n",
       "        <th id=\"T_ff021e70_b47f_11e9_8e1d_1514c12b8259level0_row4\" class=\"row_heading level0 row4\" >4</th> \n",
       "        <td id=\"T_ff021e70_b47f_11e9_8e1d_1514c12b8259row4_col0\" class=\"data row4 col0\" >4</td> \n",
       "        <td id=\"T_ff021e70_b47f_11e9_8e1d_1514c12b8259row4_col1\" class=\"data row4 col1\" >0</td> \n",
       "    </tr>    <tr> \n",
       "        <th id=\"T_ff021e70_b47f_11e9_8e1d_1514c12b8259level0_row5\" class=\"row_heading level0 row5\" >5</th> \n",
       "        <td id=\"T_ff021e70_b47f_11e9_8e1d_1514c12b8259row5_col0\" class=\"data row5 col0\" >4</td> \n",
       "        <td id=\"T_ff021e70_b47f_11e9_8e1d_1514c12b8259row5_col1\" class=\"data row5 col1\" >1</td> \n",
       "    </tr>    <tr> \n",
       "        <th id=\"T_ff021e70_b47f_11e9_8e1d_1514c12b8259level0_row6\" class=\"row_heading level0 row6\" >6</th> \n",
       "        <td id=\"T_ff021e70_b47f_11e9_8e1d_1514c12b8259row6_col0\" class=\"data row6 col0\" >1</td> \n",
       "        <td id=\"T_ff021e70_b47f_11e9_8e1d_1514c12b8259row6_col1\" class=\"data row6 col1\" >0</td> \n",
       "    </tr></tbody> \n",
       "</table> "
      ],
      "text/plain": [
       "<pandas.io.formats.style.Styler at 0x7f50b7bc6e80>"
      ]
     },
     "execution_count": 29,
     "metadata": {},
     "output_type": "execute_result"
    }
   ],
   "source": [
    "pd.crosstab(train['Parch'], train['Survived']).style.background_gradient(cmap='cool')"
   ]
  },
  {
   "cell_type": "code",
   "execution_count": 30,
   "metadata": {},
   "outputs": [
    {
     "data": {
      "image/png": "[encoded data removed]",
      "text/plain": [
       "<Figure size 1296x864 with 4 Axes>"
      ]
     },
     "metadata": {
      "needs_background": "light"
     },
     "output_type": "display_data"
    }
   ],
   "source": [
    "f, ax = plt.subplots(2, 2, figsize=(18, 12))\n",
    "train.groupby(['Parch', 'Survived']).size().unstack().plot(kind='bar', stacked=True, ax=ax[0, 0])\n",
    "train.groupby(['Parch', 'Survived']).size().unstack().plot(kind='bar', stacked=False, ax=ax[0, 1])\n",
    "ax[0, 0].set_title('Parch vs Survived - Count - Stacked')\n",
    "ax[0, 1].set_title('Parch vs Survived - Count - Side by Side')\n",
    "sns.barplot('Parch','Survived', data=train, ax=ax[1, 0])\n",
    "sns.catplot('Parch','Survived', data=train, ax=ax[1, 1], kind='point')\n",
    "ax[1, 0].set_title('Parch vs Survived - %age ')\n",
    "ax[1, 1].set_title('Parch vs Survived - %age')\n",
    "plt.close(2)\n",
    "plt.show()"
   ]
  },
  {
   "cell_type": "markdown",
   "metadata": {},
   "source": [
    "> **Observation(s)** \n",
    "- Passengers with upto 3 family members - parents and child - had better chance of survival. More than that survival chances start to decline sharply\n",
    "- Consider the numbers - for the 5 passengers with 3 family members the average is 60% survival - 3 of them survived out of 5"
   ]
  },
  {
   "cell_type": "markdown",
   "metadata": {},
   "source": [
    "### 6. Cabin"
   ]
  },
  {
   "cell_type": "code",
   "execution_count": 31,
   "metadata": {},
   "outputs": [
    {
     "data": {
      "text/plain": [
       "147"
      ]
     },
     "execution_count": 31,
     "metadata": {},
     "output_type": "execute_result"
    }
   ],
   "source": [
    "train['Cabin'].nunique()"
   ]
  },
  {
   "cell_type": "markdown",
   "metadata": {},
   "source": [
    "> **Observation(s)** \n",
    "- There are only 147 unique IDs for 891 cabins - This means multiple passengers are assigned to same cabins\n",
    "- This makes sense when you consider that family members would have the same cabin\n",
    "- There are too many values missing. - 687 of 891 which is approximately 77% \n",
    "- For now it makes sense to ignore this feature"
   ]
  },
  {
   "cell_type": "markdown",
   "metadata": {},
   "source": [
    "### 7. Ticket and PassengerId"
   ]
  },
  {
   "cell_type": "code",
   "execution_count": 32,
   "metadata": {},
   "outputs": [
    {
     "data": {
      "text/plain": [
       "681"
      ]
     },
     "execution_count": 32,
     "metadata": {},
     "output_type": "execute_result"
    }
   ],
   "source": [
    "train['Ticket'].nunique()"
   ]
  },
  {
   "cell_type": "code",
   "execution_count": 33,
   "metadata": {},
   "outputs": [
    {
     "data": {
      "text/plain": [
       "891"
      ]
     },
     "execution_count": 33,
     "metadata": {},
     "output_type": "execute_result"
    }
   ],
   "source": [
    "train['PassengerId'].nunique()"
   ]
  },
  {
   "cell_type": "markdown",
   "metadata": {},
   "source": [
    "> **Observation(s)** \n",
    "- There are only 681 unique ticket IDs for 891 cabins - This means multiple passengers were assigned to same ticket\n",
    "- Perhaps the infants travelled on the parent's ticket\n",
    "- The combination of alphanumeric characters in ticket ID do not seem to follow any specific convention - to indicate any correlation to survival chances\n",
    "- The Passenger ID is a running number \n",
    "- For now it makes sense to ignore both these features"
   ]
  },
  {
   "cell_type": "markdown",
   "metadata": {},
   "source": [
    "# <a id='3'>3. Missing Values, Feature Engineering and Data Cleaning </a> "
   ]
  },
  {
   "cell_type": "markdown",
   "metadata": {},
   "source": [
    "## <a id='3.1'>3.1. Handling Missing Values </a> "
   ]
  },
  {
   "cell_type": "markdown",
   "metadata": {},
   "source": [
    "### 1. Embarked"
   ]
  },
  {
   "cell_type": "code",
   "execution_count": 34,
   "metadata": {},
   "outputs": [
    {
     "data": {
      "text/plain": [
       "S    644\n",
       "C    168\n",
       "Q     77\n",
       "Name: Embarked, dtype: int64"
      ]
     },
     "execution_count": 34,
     "metadata": {},
     "output_type": "execute_result"
    }
   ],
   "source": [
    "train['Embarked'].value_counts()"
   ]
  },
  {
   "cell_type": "code",
   "execution_count": 35,
   "metadata": {},
   "outputs": [],
   "source": [
    "# Since there are only two missing values we can replace them with the most frequent value 'S'\n",
    "# There's no missing data for the feature 'Embarked' in the test data\n",
    "\n",
    "train['Embarked'].fillna('S', inplace=True)"
   ]
  },
  {
   "cell_type": "code",
   "execution_count": 36,
   "metadata": {},
   "outputs": [
    {
     "data": {
      "text/plain": [
       "S    646\n",
       "C    168\n",
       "Q     77\n",
       "Name: Embarked, dtype: int64"
      ]
     },
     "execution_count": 36,
     "metadata": {},
     "output_type": "execute_result"
    }
   ],
   "source": [
    "# Checking\n",
    "train['Embarked'].value_counts()"
   ]
  },
  {
   "cell_type": "code",
   "execution_count": 37,
   "metadata": {},
   "outputs": [
    {
     "data": {
      "text/html": [
       "<style  type=\"text/css\" >\n",
       "    #T_ffb8d14c_b47f_11e9_8e1d_1514c12b8259row0_col1 {\n",
       "            background-color:  #ff00ff;\n",
       "        }    #T_ffb8d14c_b47f_11e9_8e1d_1514c12b8259row1_col1 {\n",
       "            background-color:  #3cc3ff;\n",
       "        }    #T_ffb8d14c_b47f_11e9_8e1d_1514c12b8259row2_col1 {\n",
       "            background-color:  #00ffff;\n",
       "        }</style>  \n",
       "<table id=\"T_ffb8d14c_b47f_11e9_8e1d_1514c12b8259\" > \n",
       "<thead>    <tr> \n",
       "        <th class=\"blank level0\" ></th> \n",
       "        <th class=\"col_heading level0 col0\" >Embarked</th> \n",
       "        <th class=\"col_heading level0 col1\" >Survived</th> \n",
       "    </tr></thead> \n",
       "<tbody>    <tr> \n",
       "        <th id=\"T_ffb8d14c_b47f_11e9_8e1d_1514c12b8259level0_row0\" class=\"row_heading level0 row0\" >0</th> \n",
       "        <td id=\"T_ffb8d14c_b47f_11e9_8e1d_1514c12b8259row0_col0\" class=\"data row0 col0\" >C</td> \n",
       "        <td id=\"T_ffb8d14c_b47f_11e9_8e1d_1514c12b8259row0_col1\" class=\"data row0 col1\" >0.553571</td> \n",
       "    </tr>    <tr> \n",
       "        <th id=\"T_ffb8d14c_b47f_11e9_8e1d_1514c12b8259level0_row1\" class=\"row_heading level0 row1\" >1</th> \n",
       "        <td id=\"T_ffb8d14c_b47f_11e9_8e1d_1514c12b8259row1_col0\" class=\"data row1 col0\" >Q</td> \n",
       "        <td id=\"T_ffb8d14c_b47f_11e9_8e1d_1514c12b8259row1_col1\" class=\"data row1 col1\" >0.38961</td> \n",
       "    </tr>    <tr> \n",
       "        <th id=\"T_ffb8d14c_b47f_11e9_8e1d_1514c12b8259level0_row2\" class=\"row_heading level0 row2\" >2</th> \n",
       "        <td id=\"T_ffb8d14c_b47f_11e9_8e1d_1514c12b8259row2_col0\" class=\"data row2 col0\" >S</td> \n",
       "        <td id=\"T_ffb8d14c_b47f_11e9_8e1d_1514c12b8259row2_col1\" class=\"data row2 col1\" >0.339009</td> \n",
       "    </tr></tbody> \n",
       "</table> "
      ],
      "text/plain": [
       "<pandas.io.formats.style.Styler at 0x7f50b7b9c278>"
      ]
     },
     "execution_count": 37,
     "metadata": {},
     "output_type": "execute_result"
    }
   ],
   "source": [
    "train[['Embarked','Survived']].groupby(['Embarked'], as_index=False).mean().style.background_gradient(cmap='cool')"
   ]
  },
  {
   "cell_type": "code",
   "execution_count": 38,
   "metadata": {},
   "outputs": [
    {
     "data": {
      "text/html": [
       "<style  type=\"text/css\" >\n",
       "    #T_ffbeb396_b47f_11e9_8e1d_1514c12b8259row0_col0 {\n",
       "            background-color:  #12edff;\n",
       "        }    #T_ffbeb396_b47f_11e9_8e1d_1514c12b8259row0_col1 {\n",
       "            background-color:  #55aaff;\n",
       "        }    #T_ffbeb396_b47f_11e9_8e1d_1514c12b8259row1_col0 {\n",
       "            background-color:  #00ffff;\n",
       "        }    #T_ffbeb396_b47f_11e9_8e1d_1514c12b8259row1_col1 {\n",
       "            background-color:  #00ffff;\n",
       "        }    #T_ffbeb396_b47f_11e9_8e1d_1514c12b8259row2_col0 {\n",
       "            background-color:  #ff00ff;\n",
       "        }    #T_ffbeb396_b47f_11e9_8e1d_1514c12b8259row2_col1 {\n",
       "            background-color:  #ff00ff;\n",
       "        }</style>  \n",
       "<table id=\"T_ffbeb396_b47f_11e9_8e1d_1514c12b8259\" > \n",
       "<thead>    <tr> \n",
       "        <th class=\"index_name level0\" >Survived</th> \n",
       "        <th class=\"col_heading level0 col0\" >0</th> \n",
       "        <th class=\"col_heading level0 col1\" >1</th> \n",
       "    </tr>    <tr> \n",
       "        <th class=\"index_name level0\" >Embarked</th> \n",
       "        <th class=\"blank\" ></th> \n",
       "        <th class=\"blank\" ></th> \n",
       "    </tr></thead> \n",
       "<tbody>    <tr> \n",
       "        <th id=\"T_ffbeb396_b47f_11e9_8e1d_1514c12b8259level0_row0\" class=\"row_heading level0 row0\" >C</th> \n",
       "        <td id=\"T_ffbeb396_b47f_11e9_8e1d_1514c12b8259row0_col0\" class=\"data row0 col0\" >75</td> \n",
       "        <td id=\"T_ffbeb396_b47f_11e9_8e1d_1514c12b8259row0_col1\" class=\"data row0 col1\" >93</td> \n",
       "    </tr>    <tr> \n",
       "        <th id=\"T_ffbeb396_b47f_11e9_8e1d_1514c12b8259level0_row1\" class=\"row_heading level0 row1\" >Q</th> \n",
       "        <td id=\"T_ffbeb396_b47f_11e9_8e1d_1514c12b8259row1_col0\" class=\"data row1 col0\" >47</td> \n",
       "        <td id=\"T_ffbeb396_b47f_11e9_8e1d_1514c12b8259row1_col1\" class=\"data row1 col1\" >30</td> \n",
       "    </tr>    <tr> \n",
       "        <th id=\"T_ffbeb396_b47f_11e9_8e1d_1514c12b8259level0_row2\" class=\"row_heading level0 row2\" >S</th> \n",
       "        <td id=\"T_ffbeb396_b47f_11e9_8e1d_1514c12b8259row2_col0\" class=\"data row2 col0\" >427</td> \n",
       "        <td id=\"T_ffbeb396_b47f_11e9_8e1d_1514c12b8259row2_col1\" class=\"data row2 col1\" >219</td> \n",
       "    </tr></tbody> \n",
       "</table> "
      ],
      "text/plain": [
       "<pandas.io.formats.style.Styler at 0x7f50b79ce080>"
      ]
     },
     "execution_count": 38,
     "metadata": {},
     "output_type": "execute_result"
    }
   ],
   "source": [
    "pd.crosstab(train['Embarked'],train['Survived']).style.background_gradient(cmap='cool')"
   ]
  },
  {
   "cell_type": "code",
   "execution_count": 39,
   "metadata": {},
   "outputs": [
    {
     "data": {
      "image/png": "[encoded data removed]",
      "text/plain": [
       "<Figure size 360x216 with 1 Axes>"
      ]
     },
     "metadata": {
      "needs_background": "light"
     },
     "output_type": "display_data"
    }
   ],
   "source": [
    "sns.catplot('Embarked','Survived', data=train, kind='point')\n",
    "fig=plt.gcf()\n",
    "fig.set_size_inches(5,3)\n",
    "plt.show()"
   ]
  },
  {
   "cell_type": "markdown",
   "metadata": {},
   "source": [
    "> **Observation(s)** \n",
    "- On average people who embarked at port C had a better chance of survival"
   ]
  },
  {
   "cell_type": "markdown",
   "metadata": {},
   "source": [
    "### 2. Embarked vs Pclass, Survival and Sex"
   ]
  },
  {
   "cell_type": "code",
   "execution_count": 40,
   "metadata": {},
   "outputs": [
    {
     "data": {
      "text/html": [
       "<style  type=\"text/css\" >\n",
       "    #T_ffe87c80_b47f_11e9_8e1d_1514c12b8259row0_col0 {\n",
       "            background-color:  #a758ff;\n",
       "        }    #T_ffe87c80_b47f_11e9_8e1d_1514c12b8259row0_col1 {\n",
       "            background-color:  #16e9ff;\n",
       "        }    #T_ffe87c80_b47f_11e9_8e1d_1514c12b8259row0_col2 {\n",
       "            background-color:  #00ffff;\n",
       "        }    #T_ffe87c80_b47f_11e9_8e1d_1514c12b8259row1_col0 {\n",
       "            background-color:  #00ffff;\n",
       "        }    #T_ffe87c80_b47f_11e9_8e1d_1514c12b8259row1_col1 {\n",
       "            background-color:  #00ffff;\n",
       "        }    #T_ffe87c80_b47f_11e9_8e1d_1514c12b8259row1_col2 {\n",
       "            background-color:  #05faff;\n",
       "        }    #T_ffe87c80_b47f_11e9_8e1d_1514c12b8259row2_col0 {\n",
       "            background-color:  #ff00ff;\n",
       "        }    #T_ffe87c80_b47f_11e9_8e1d_1514c12b8259row2_col1 {\n",
       "            background-color:  #ff00ff;\n",
       "        }    #T_ffe87c80_b47f_11e9_8e1d_1514c12b8259row2_col2 {\n",
       "            background-color:  #ff00ff;\n",
       "        }</style>  \n",
       "<table id=\"T_ffe87c80_b47f_11e9_8e1d_1514c12b8259\" > \n",
       "<thead>    <tr> \n",
       "        <th class=\"index_name level0\" >Pclass</th> \n",
       "        <th class=\"col_heading level0 col0\" >1</th> \n",
       "        <th class=\"col_heading level0 col1\" >2</th> \n",
       "        <th class=\"col_heading level0 col2\" >3</th> \n",
       "    </tr>    <tr> \n",
       "        <th class=\"index_name level0\" >Embarked</th> \n",
       "        <th class=\"blank\" ></th> \n",
       "        <th class=\"blank\" ></th> \n",
       "        <th class=\"blank\" ></th> \n",
       "    </tr></thead> \n",
       "<tbody>    <tr> \n",
       "        <th id=\"T_ffe87c80_b47f_11e9_8e1d_1514c12b8259level0_row0\" class=\"row_heading level0 row0\" >C</th> \n",
       "        <td id=\"T_ffe87c80_b47f_11e9_8e1d_1514c12b8259row0_col0\" class=\"data row0 col0\" >85</td> \n",
       "        <td id=\"T_ffe87c80_b47f_11e9_8e1d_1514c12b8259row0_col1\" class=\"data row0 col1\" >17</td> \n",
       "        <td id=\"T_ffe87c80_b47f_11e9_8e1d_1514c12b8259row0_col2\" class=\"data row0 col2\" >66</td> \n",
       "    </tr>    <tr> \n",
       "        <th id=\"T_ffe87c80_b47f_11e9_8e1d_1514c12b8259level0_row1\" class=\"row_heading level0 row1\" >Q</th> \n",
       "        <td id=\"T_ffe87c80_b47f_11e9_8e1d_1514c12b8259row1_col0\" class=\"data row1 col0\" >2</td> \n",
       "        <td id=\"T_ffe87c80_b47f_11e9_8e1d_1514c12b8259row1_col1\" class=\"data row1 col1\" >3</td> \n",
       "        <td id=\"T_ffe87c80_b47f_11e9_8e1d_1514c12b8259row1_col2\" class=\"data row1 col2\" >72</td> \n",
       "    </tr>    <tr> \n",
       "        <th id=\"T_ffe87c80_b47f_11e9_8e1d_1514c12b8259level0_row2\" class=\"row_heading level0 row2\" >S</th> \n",
       "        <td id=\"T_ffe87c80_b47f_11e9_8e1d_1514c12b8259row2_col0\" class=\"data row2 col0\" >129</td> \n",
       "        <td id=\"T_ffe87c80_b47f_11e9_8e1d_1514c12b8259row2_col1\" class=\"data row2 col1\" >164</td> \n",
       "        <td id=\"T_ffe87c80_b47f_11e9_8e1d_1514c12b8259row2_col2\" class=\"data row2 col2\" >353</td> \n",
       "    </tr></tbody> \n",
       "</table> "
      ],
      "text/plain": [
       "<pandas.io.formats.style.Styler at 0x7f50b78b2c18>"
      ]
     },
     "execution_count": 40,
     "metadata": {},
     "output_type": "execute_result"
    }
   ],
   "source": [
    "pd.crosstab(train['Embarked'],train['Pclass']).style.background_gradient(cmap='cool')"
   ]
  },
  {
   "cell_type": "code",
   "execution_count": 41,
   "metadata": {},
   "outputs": [
    {
     "data": {
      "image/png": "[encoded data removed]",
      "text/plain": [
       "<Figure size 1296x432 with 2 Axes>"
      ]
     },
     "metadata": {
      "needs_background": "light"
     },
     "output_type": "display_data"
    }
   ],
   "source": [
    "f, ax = plt.subplots(1,2, figsize=(18, 6))\n",
    "train.groupby(['Embarked', 'Survived']).size().unstack().plot(kind='bar', stacked=False, ax=ax[0])\n",
    "train.groupby(['Embarked', 'Pclass']).size().unstack().plot(kind='bar', stacked=False, ax=ax[1])\n",
    "ax[0].set_title('Embarked vs Survived')\n",
    "ax[1].set_title('Embarked vs Pclass')\n",
    "plt.show()"
   ]
  },
  {
   "cell_type": "markdown",
   "metadata": {},
   "source": [
    "> **Observation(s)** \n",
    "- Maximum number of people boarded from port S\n",
    "- Most of the passengers from port Q - were 3rd class passengers"
   ]
  },
  {
   "cell_type": "code",
   "execution_count": 42,
   "metadata": {},
   "outputs": [
    {
     "data": {
      "image/png": "[encoded data removed]",
      "text/plain": [
       "<Figure size 1150.5x360 with 3 Axes>"
      ]
     },
     "metadata": {
      "needs_background": "light"
     },
     "output_type": "display_data"
    }
   ],
   "source": [
    "sns.catplot('Pclass', 'Survived', hue='Sex', col='Embarked', data=train, kind='point')\n",
    "plt.show()"
   ]
  },
  {
   "cell_type": "markdown",
   "metadata": {},
   "source": [
    "> **Observation(s)** \n",
    "- At all ports chances of survival for women belonging to first class and second class were higher\n",
    "- At port S - many women belonging to 3rd class perished. Similarly for port C - survival chances for women from 3rd class were lesser \n",
    "- Even though total survival average is higher for port C(~55%) and port Q(~39%) - women belonging to 3rd class had lesser chances of survival\n",
    "- At port Q - overall chances for men were absymal - but there was a slight increase of average percentage survival for men belong to 3rd class when compared to the other classes\n",
    "- At port S and C - Men from 1st class had better chances of survival when compared to men from other classes"
   ]
  },
  {
   "cell_type": "markdown",
   "metadata": {},
   "source": [
    "## <a id='3.2'>3.2. Feature Engineering </a> "
   ]
  },
  {
   "cell_type": "markdown",
   "metadata": {},
   "source": [
    "Looking at the other features of the training data, intelligently filling in missing values, combining features, creating categories as required."
   ]
  },
  {
   "cell_type": "markdown",
   "metadata": {},
   "source": [
    "### 1. FamilySize = SibSp + Parch"
   ]
  },
  {
   "cell_type": "markdown",
   "metadata": {},
   "source": [
    "Combining the Sibling/Spouse and Parents/Children features to a single FamilySize feature and checking its impact"
   ]
  },
  {
   "cell_type": "code",
   "execution_count": 43,
   "metadata": {},
   "outputs": [],
   "source": [
    "train['FamilySize'] = train['SibSp'] + train['Parch']\n",
    "test['FamilySize'] = test['SibSp'] + test['Parch']"
   ]
  },
  {
   "cell_type": "code",
   "execution_count": 44,
   "metadata": {},
   "outputs": [
    {
     "data": {
      "text/html": [
       "<style  type=\"text/css\" >\n",
       "    #T_00aa878a_b480_11e9_8e1d_1514c12b8259row0_col0 {\n",
       "            background-color:  #00ffff;\n",
       "        }    #T_00aa878a_b480_11e9_8e1d_1514c12b8259row0_col1 {\n",
       "            background-color:  #6b94ff;\n",
       "        }    #T_00aa878a_b480_11e9_8e1d_1514c12b8259row1_col0 {\n",
       "            background-color:  #19e6ff;\n",
       "        }    #T_00aa878a_b480_11e9_8e1d_1514c12b8259row1_col1 {\n",
       "            background-color:  #c33cff;\n",
       "        }    #T_00aa878a_b480_11e9_8e1d_1514c12b8259row2_col0 {\n",
       "            background-color:  #33ccff;\n",
       "        }    #T_00aa878a_b480_11e9_8e1d_1514c12b8259row2_col1 {\n",
       "            background-color:  #cc33ff;\n",
       "        }    #T_00aa878a_b480_11e9_8e1d_1514c12b8259row3_col0 {\n",
       "            background-color:  #4cb3ff;\n",
       "        }    #T_00aa878a_b480_11e9_8e1d_1514c12b8259row3_col1 {\n",
       "            background-color:  #ff00ff;\n",
       "        }    #T_00aa878a_b480_11e9_8e1d_1514c12b8259row4_col0 {\n",
       "            background-color:  #6699ff;\n",
       "        }    #T_00aa878a_b480_11e9_8e1d_1514c12b8259row4_col1 {\n",
       "            background-color:  #46b9ff;\n",
       "        }    #T_00aa878a_b480_11e9_8e1d_1514c12b8259row5_col0 {\n",
       "            background-color:  #807fff;\n",
       "        }    #T_00aa878a_b480_11e9_8e1d_1514c12b8259row5_col1 {\n",
       "            background-color:  #30cfff;\n",
       "        }    #T_00aa878a_b480_11e9_8e1d_1514c12b8259row6_col0 {\n",
       "            background-color:  #9966ff;\n",
       "        }    #T_00aa878a_b480_11e9_8e1d_1514c12b8259row6_col1 {\n",
       "            background-color:  #758aff;\n",
       "        }    #T_00aa878a_b480_11e9_8e1d_1514c12b8259row7_col0 {\n",
       "            background-color:  #b34cff;\n",
       "        }    #T_00aa878a_b480_11e9_8e1d_1514c12b8259row7_col1 {\n",
       "            background-color:  #00ffff;\n",
       "        }    #T_00aa878a_b480_11e9_8e1d_1514c12b8259row8_col0 {\n",
       "            background-color:  #ff00ff;\n",
       "        }    #T_00aa878a_b480_11e9_8e1d_1514c12b8259row8_col1 {\n",
       "            background-color:  #00ffff;\n",
       "        }</style>  \n",
       "<table id=\"T_00aa878a_b480_11e9_8e1d_1514c12b8259\" > \n",
       "<thead>    <tr> \n",
       "        <th class=\"blank level0\" ></th> \n",
       "        <th class=\"col_heading level0 col0\" >FamilySize</th> \n",
       "        <th class=\"col_heading level0 col1\" >Survived</th> \n",
       "    </tr></thead> \n",
       "<tbody>    <tr> \n",
       "        <th id=\"T_00aa878a_b480_11e9_8e1d_1514c12b8259level0_row0\" class=\"row_heading level0 row0\" >0</th> \n",
       "        <td id=\"T_00aa878a_b480_11e9_8e1d_1514c12b8259row0_col0\" class=\"data row0 col0\" >0</td> \n",
       "        <td id=\"T_00aa878a_b480_11e9_8e1d_1514c12b8259row0_col1\" class=\"data row0 col1\" >0.303538</td> \n",
       "    </tr>    <tr> \n",
       "        <th id=\"T_00aa878a_b480_11e9_8e1d_1514c12b8259level0_row1\" class=\"row_heading level0 row1\" >1</th> \n",
       "        <td id=\"T_00aa878a_b480_11e9_8e1d_1514c12b8259row1_col0\" class=\"data row1 col0\" >1</td> \n",
       "        <td id=\"T_00aa878a_b480_11e9_8e1d_1514c12b8259row1_col1\" class=\"data row1 col1\" >0.552795</td> \n",
       "    </tr>    <tr> \n",
       "        <th id=\"T_00aa878a_b480_11e9_8e1d_1514c12b8259level0_row2\" class=\"row_heading level0 row2\" >2</th> \n",
       "        <td id=\"T_00aa878a_b480_11e9_8e1d_1514c12b8259row2_col0\" class=\"data row2 col0\" >2</td> \n",
       "        <td id=\"T_00aa878a_b480_11e9_8e1d_1514c12b8259row2_col1\" class=\"data row2 col1\" >0.578431</td> \n",
       "    </tr>    <tr> \n",
       "        <th id=\"T_00aa878a_b480_11e9_8e1d_1514c12b8259level0_row3\" class=\"row_heading level0 row3\" >3</th> \n",
       "        <td id=\"T_00aa878a_b480_11e9_8e1d_1514c12b8259row3_col0\" class=\"data row3 col0\" >3</td> \n",
       "        <td id=\"T_00aa878a_b480_11e9_8e1d_1514c12b8259row3_col1\" class=\"data row3 col1\" >0.724138</td> \n",
       "    </tr>    <tr> \n",
       "        <th id=\"T_00aa878a_b480_11e9_8e1d_1514c12b8259level0_row4\" class=\"row_heading level0 row4\" >4</th> \n",
       "        <td id=\"T_00aa878a_b480_11e9_8e1d_1514c12b8259row4_col0\" class=\"data row4 col0\" >4</td> \n",
       "        <td id=\"T_00aa878a_b480_11e9_8e1d_1514c12b8259row4_col1\" class=\"data row4 col1\" >0.2</td> \n",
       "    </tr>    <tr> \n",
       "        <th id=\"T_00aa878a_b480_11e9_8e1d_1514c12b8259level0_row5\" class=\"row_heading level0 row5\" >5</th> \n",
       "        <td id=\"T_00aa878a_b480_11e9_8e1d_1514c12b8259row5_col0\" class=\"data row5 col0\" >5</td> \n",
       "        <td id=\"T_00aa878a_b480_11e9_8e1d_1514c12b8259row5_col1\" class=\"data row5 col1\" >0.136364</td> \n",
       "    </tr>    <tr> \n",
       "        <th id=\"T_00aa878a_b480_11e9_8e1d_1514c12b8259level0_row6\" class=\"row_heading level0 row6\" >6</th> \n",
       "        <td id=\"T_00aa878a_b480_11e9_8e1d_1514c12b8259row6_col0\" class=\"data row6 col0\" >6</td> \n",
       "        <td id=\"T_00aa878a_b480_11e9_8e1d_1514c12b8259row6_col1\" class=\"data row6 col1\" >0.333333</td> \n",
       "    </tr>    <tr> \n",
       "        <th id=\"T_00aa878a_b480_11e9_8e1d_1514c12b8259level0_row7\" class=\"row_heading level0 row7\" >7</th> \n",
       "        <td id=\"T_00aa878a_b480_11e9_8e1d_1514c12b8259row7_col0\" class=\"data row7 col0\" >7</td> \n",
       "        <td id=\"T_00aa878a_b480_11e9_8e1d_1514c12b8259row7_col1\" class=\"data row7 col1\" >0</td> \n",
       "    </tr>    <tr> \n",
       "        <th id=\"T_00aa878a_b480_11e9_8e1d_1514c12b8259level0_row8\" class=\"row_heading level0 row8\" >8</th> \n",
       "        <td id=\"T_00aa878a_b480_11e9_8e1d_1514c12b8259row8_col0\" class=\"data row8 col0\" >10</td> \n",
       "        <td id=\"T_00aa878a_b480_11e9_8e1d_1514c12b8259row8_col1\" class=\"data row8 col1\" >0</td> \n",
       "    </tr></tbody> \n",
       "</table> "
      ],
      "text/plain": [
       "<pandas.io.formats.style.Styler at 0x7f50b8562198>"
      ]
     },
     "execution_count": 44,
     "metadata": {},
     "output_type": "execute_result"
    }
   ],
   "source": [
    "train[['FamilySize','Survived']].groupby(['FamilySize'], as_index=False).mean().style.background_gradient(cmap='cool')"
   ]
  },
  {
   "cell_type": "code",
   "execution_count": 45,
   "metadata": {},
   "outputs": [
    {
     "data": {
      "text/html": [
       "<style  type=\"text/css\" >\n",
       "    #T_00b21522_b480_11e9_8e1d_1514c12b8259row0_col0 {\n",
       "            background-color:  #ff00ff;\n",
       "        }    #T_00b21522_b480_11e9_8e1d_1514c12b8259row0_col1 {\n",
       "            background-color:  #ff00ff;\n",
       "        }    #T_00b21522_b480_11e9_8e1d_1514c12b8259row1_col0 {\n",
       "            background-color:  #2dd2ff;\n",
       "        }    #T_00b21522_b480_11e9_8e1d_1514c12b8259row1_col1 {\n",
       "            background-color:  #8b74ff;\n",
       "        }    #T_00b21522_b480_11e9_8e1d_1514c12b8259row2_col0 {\n",
       "            background-color:  #19e6ff;\n",
       "        }    #T_00b21522_b480_11e9_8e1d_1514c12b8259row2_col1 {\n",
       "            background-color:  #5ca3ff;\n",
       "        }    #T_00b21522_b480_11e9_8e1d_1514c12b8259row3_col0 {\n",
       "            background-color:  #01feff;\n",
       "        }    #T_00b21522_b480_11e9_8e1d_1514c12b8259row3_col1 {\n",
       "            background-color:  #20dfff;\n",
       "        }    #T_00b21522_b480_11e9_8e1d_1514c12b8259row4_col0 {\n",
       "            background-color:  #04fbff;\n",
       "        }    #T_00b21522_b480_11e9_8e1d_1514c12b8259row4_col1 {\n",
       "            background-color:  #04fbff;\n",
       "        }    #T_00b21522_b480_11e9_8e1d_1514c12b8259row5_col0 {\n",
       "            background-color:  #09f6ff;\n",
       "        }    #T_00b21522_b480_11e9_8e1d_1514c12b8259row5_col1 {\n",
       "            background-color:  #04fbff;\n",
       "        }    #T_00b21522_b480_11e9_8e1d_1514c12b8259row6_col0 {\n",
       "            background-color:  #01feff;\n",
       "        }    #T_00b21522_b480_11e9_8e1d_1514c12b8259row6_col1 {\n",
       "            background-color:  #06f9ff;\n",
       "        }    #T_00b21522_b480_11e9_8e1d_1514c12b8259row7_col0 {\n",
       "            background-color:  #00ffff;\n",
       "        }    #T_00b21522_b480_11e9_8e1d_1514c12b8259row7_col1 {\n",
       "            background-color:  #00ffff;\n",
       "        }    #T_00b21522_b480_11e9_8e1d_1514c12b8259row8_col0 {\n",
       "            background-color:  #00ffff;\n",
       "        }    #T_00b21522_b480_11e9_8e1d_1514c12b8259row8_col1 {\n",
       "            background-color:  #00ffff;\n",
       "        }</style>  \n",
       "<table id=\"T_00b21522_b480_11e9_8e1d_1514c12b8259\" > \n",
       "<thead>    <tr> \n",
       "        <th class=\"index_name level0\" >Survived</th> \n",
       "        <th class=\"col_heading level0 col0\" >0</th> \n",
       "        <th class=\"col_heading level0 col1\" >1</th> \n",
       "    </tr>    <tr> \n",
       "        <th class=\"index_name level0\" >FamilySize</th> \n",
       "        <th class=\"blank\" ></th> \n",
       "        <th class=\"blank\" ></th> \n",
       "    </tr></thead> \n",
       "<tbody>    <tr> \n",
       "        <th id=\"T_00b21522_b480_11e9_8e1d_1514c12b8259level0_row0\" class=\"row_heading level0 row0\" >0</th> \n",
       "        <td id=\"T_00b21522_b480_11e9_8e1d_1514c12b8259row0_col0\" class=\"data row0 col0\" >374</td> \n",
       "        <td id=\"T_00b21522_b480_11e9_8e1d_1514c12b8259row0_col1\" class=\"data row0 col1\" >163</td> \n",
       "    </tr>    <tr> \n",
       "        <th id=\"T_00b21522_b480_11e9_8e1d_1514c12b8259level0_row1\" class=\"row_heading level0 row1\" >1</th> \n",
       "        <td id=\"T_00b21522_b480_11e9_8e1d_1514c12b8259row1_col0\" class=\"data row1 col0\" >72</td> \n",
       "        <td id=\"T_00b21522_b480_11e9_8e1d_1514c12b8259row1_col1\" class=\"data row1 col1\" >89</td> \n",
       "    </tr>    <tr> \n",
       "        <th id=\"T_00b21522_b480_11e9_8e1d_1514c12b8259level0_row2\" class=\"row_heading level0 row2\" >2</th> \n",
       "        <td id=\"T_00b21522_b480_11e9_8e1d_1514c12b8259row2_col0\" class=\"data row2 col0\" >43</td> \n",
       "        <td id=\"T_00b21522_b480_11e9_8e1d_1514c12b8259row2_col1\" class=\"data row2 col1\" >59</td> \n",
       "    </tr>    <tr> \n",
       "        <th id=\"T_00b21522_b480_11e9_8e1d_1514c12b8259level0_row3\" class=\"row_heading level0 row3\" >3</th> \n",
       "        <td id=\"T_00b21522_b480_11e9_8e1d_1514c12b8259row3_col0\" class=\"data row3 col0\" >8</td> \n",
       "        <td id=\"T_00b21522_b480_11e9_8e1d_1514c12b8259row3_col1\" class=\"data row3 col1\" >21</td> \n",
       "    </tr>    <tr> \n",
       "        <th id=\"T_00b21522_b480_11e9_8e1d_1514c12b8259level0_row4\" class=\"row_heading level0 row4\" >4</th> \n",
       "        <td id=\"T_00b21522_b480_11e9_8e1d_1514c12b8259row4_col0\" class=\"data row4 col0\" >12</td> \n",
       "        <td id=\"T_00b21522_b480_11e9_8e1d_1514c12b8259row4_col1\" class=\"data row4 col1\" >3</td> \n",
       "    </tr>    <tr> \n",
       "        <th id=\"T_00b21522_b480_11e9_8e1d_1514c12b8259level0_row5\" class=\"row_heading level0 row5\" >5</th> \n",
       "        <td id=\"T_00b21522_b480_11e9_8e1d_1514c12b8259row5_col0\" class=\"data row5 col0\" >19</td> \n",
       "        <td id=\"T_00b21522_b480_11e9_8e1d_1514c12b8259row5_col1\" class=\"data row5 col1\" >3</td> \n",
       "    </tr>    <tr> \n",
       "        <th id=\"T_00b21522_b480_11e9_8e1d_1514c12b8259level0_row6\" class=\"row_heading level0 row6\" >6</th> \n",
       "        <td id=\"T_00b21522_b480_11e9_8e1d_1514c12b8259row6_col0\" class=\"data row6 col0\" >8</td> \n",
       "        <td id=\"T_00b21522_b480_11e9_8e1d_1514c12b8259row6_col1\" class=\"data row6 col1\" >4</td> \n",
       "    </tr>    <tr> \n",
       "        <th id=\"T_00b21522_b480_11e9_8e1d_1514c12b8259level0_row7\" class=\"row_heading level0 row7\" >7</th> \n",
       "        <td id=\"T_00b21522_b480_11e9_8e1d_1514c12b8259row7_col0\" class=\"data row7 col0\" >6</td> \n",
       "        <td id=\"T_00b21522_b480_11e9_8e1d_1514c12b8259row7_col1\" class=\"data row7 col1\" >0</td> \n",
       "    </tr>    <tr> \n",
       "        <th id=\"T_00b21522_b480_11e9_8e1d_1514c12b8259level0_row8\" class=\"row_heading level0 row8\" >10</th> \n",
       "        <td id=\"T_00b21522_b480_11e9_8e1d_1514c12b8259row8_col0\" class=\"data row8 col0\" >7</td> \n",
       "        <td id=\"T_00b21522_b480_11e9_8e1d_1514c12b8259row8_col1\" class=\"data row8 col1\" >0</td> \n",
       "    </tr></tbody> \n",
       "</table> "
      ],
      "text/plain": [
       "<pandas.io.formats.style.Styler at 0x7f50b84f6048>"
      ]
     },
     "execution_count": 45,
     "metadata": {},
     "output_type": "execute_result"
    }
   ],
   "source": [
    "pd.crosstab(train['FamilySize'], train['Survived']).style.background_gradient(cmap='cool')"
   ]
  },
  {
   "cell_type": "code",
   "execution_count": 46,
   "metadata": {},
   "outputs": [
    {
     "data": {
      "image/png": "[encoded data removed]",
      "text/plain": [
       "<Figure size 1296x360 with 2 Axes>"
      ]
     },
     "metadata": {
      "needs_background": "light"
     },
     "output_type": "display_data"
    }
   ],
   "source": [
    "f, ax = plt.subplots(1, 2, figsize=(18, 5))\n",
    "sns.barplot('FamilySize', 'Survived', data=train, ax=ax[0])\n",
    "ax[0].set_title('Family Size vs Survived')\n",
    "sns.catplot('FamilySize', 'Survived', data=train, ax=ax[1], kind='point')\n",
    "ax[0].set_title('Family Size vs Survived')\n",
    "plt.close(2)\n",
    "plt.show()"
   ]
  },
  {
   "cell_type": "markdown",
   "metadata": {},
   "source": [
    "> **Observation(s)** \n",
    "- FamilySize upto 3 shows a good chance of survival - beyond that the chances decline sharply (with an increase around 6)"
   ]
  },
  {
   "cell_type": "markdown",
   "metadata": {},
   "source": [
    "### 2. Fare"
   ]
  },
  {
   "cell_type": "code",
   "execution_count": 47,
   "metadata": {},
   "outputs": [],
   "source": [
    "from sklearn.preprocessing import LabelEncoder"
   ]
  },
  {
   "cell_type": "code",
   "execution_count": 48,
   "metadata": {},
   "outputs": [],
   "source": [
    "# Create a fare category \n",
    "\n",
    "test['Fare'].fillna(test['Fare'].median(), inplace = True)\n",
    "\n",
    "train['FareCategory'] = pd.qcut(train['Fare'], 5)\n",
    "test['FareCategory'] = pd.qcut(test['Fare'], 5)"
   ]
  },
  {
   "cell_type": "code",
   "execution_count": 49,
   "metadata": {},
   "outputs": [],
   "source": [
    "train['Fare_Code'] = LabelEncoder().fit_transform(train['FareCategory'])"
   ]
  },
  {
   "cell_type": "code",
   "execution_count": 50,
   "metadata": {},
   "outputs": [],
   "source": [
    "test['Fare_Code'] = LabelEncoder().fit_transform(test['FareCategory'])"
   ]
  },
  {
   "cell_type": "code",
   "execution_count": 51,
   "metadata": {},
   "outputs": [
    {
     "data": {
      "text/html": [
       "<style  type=\"text/css\" >\n",
       "    #T_014fda78_b480_11e9_8e1d_1514c12b8259row0_col0 {\n",
       "            background-color:  #09f6ff;\n",
       "        }    #T_014fda78_b480_11e9_8e1d_1514c12b8259row1_col0 {\n",
       "            background-color:  #00ffff;\n",
       "        }    #T_014fda78_b480_11e9_8e1d_1514c12b8259row2_col0 {\n",
       "            background-color:  #817eff;\n",
       "        }    #T_014fda78_b480_11e9_8e1d_1514c12b8259row3_col0 {\n",
       "            background-color:  #8d72ff;\n",
       "        }    #T_014fda78_b480_11e9_8e1d_1514c12b8259row4_col0 {\n",
       "            background-color:  #ff00ff;\n",
       "        }</style>  \n",
       "<table id=\"T_014fda78_b480_11e9_8e1d_1514c12b8259\" > \n",
       "<thead>    <tr> \n",
       "        <th class=\"blank level0\" ></th> \n",
       "        <th class=\"col_heading level0 col0\" >Survived</th> \n",
       "    </tr>    <tr> \n",
       "        <th class=\"index_name level0\" >Fare_Code</th> \n",
       "        <th class=\"blank\" ></th> \n",
       "    </tr></thead> \n",
       "<tbody>    <tr> \n",
       "        <th id=\"T_014fda78_b480_11e9_8e1d_1514c12b8259level0_row0\" class=\"row_heading level0 row0\" >0</th> \n",
       "        <td id=\"T_014fda78_b480_11e9_8e1d_1514c12b8259row0_col0\" class=\"data row0 col0\" >0.217877</td> \n",
       "    </tr>    <tr> \n",
       "        <th id=\"T_014fda78_b480_11e9_8e1d_1514c12b8259level0_row1\" class=\"row_heading level0 row1\" >1</th> \n",
       "        <td id=\"T_014fda78_b480_11e9_8e1d_1514c12b8259row1_col0\" class=\"data row1 col0\" >0.201087</td> \n",
       "    </tr>    <tr> \n",
       "        <th id=\"T_014fda78_b480_11e9_8e1d_1514c12b8259level0_row2\" class=\"row_heading level0 row2\" >2</th> \n",
       "        <td id=\"T_014fda78_b480_11e9_8e1d_1514c12b8259row2_col0\" class=\"data row2 col0\" >0.424419</td> \n",
       "    </tr>    <tr> \n",
       "        <th id=\"T_014fda78_b480_11e9_8e1d_1514c12b8259level0_row3\" class=\"row_heading level0 row3\" >3</th> \n",
       "        <td id=\"T_014fda78_b480_11e9_8e1d_1514c12b8259row3_col0\" class=\"data row3 col0\" >0.444444</td> \n",
       "    </tr>    <tr> \n",
       "        <th id=\"T_014fda78_b480_11e9_8e1d_1514c12b8259level0_row4\" class=\"row_heading level0 row4\" >4</th> \n",
       "        <td id=\"T_014fda78_b480_11e9_8e1d_1514c12b8259row4_col0\" class=\"data row4 col0\" >0.642045</td> \n",
       "    </tr></tbody> \n",
       "</table> "
      ],
      "text/plain": [
       "<pandas.io.formats.style.Styler at 0x7f50b77d67b8>"
      ]
     },
     "execution_count": 51,
     "metadata": {},
     "output_type": "execute_result"
    }
   ],
   "source": [
    "train[['Fare_Code', 'Survived']].groupby(['Fare_Code']).mean().style.background_gradient(cmap='cool')"
   ]
  },
  {
   "cell_type": "code",
   "execution_count": 52,
   "metadata": {},
   "outputs": [
    {
     "data": {
      "text/html": [
       "<style  type=\"text/css\" >\n",
       "    #T_01563a62_b480_11e9_8e1d_1514c12b8259row0_col0 {\n",
       "            background-color:  #ea15ff;\n",
       "        }    #T_01563a62_b480_11e9_8e1d_1514c12b8259row0_col1 {\n",
       "            background-color:  #06f9ff;\n",
       "        }    #T_01563a62_b480_11e9_8e1d_1514c12b8259row1_col0 {\n",
       "            background-color:  #ff00ff;\n",
       "        }    #T_01563a62_b480_11e9_8e1d_1514c12b8259row1_col1 {\n",
       "            background-color:  #00ffff;\n",
       "        }    #T_01563a62_b480_11e9_8e1d_1514c12b8259row2_col0 {\n",
       "            background-color:  #6d92ff;\n",
       "        }    #T_01563a62_b480_11e9_8e1d_1514c12b8259row2_col1 {\n",
       "            background-color:  #7986ff;\n",
       "        }    #T_01563a62_b480_11e9_8e1d_1514c12b8259row3_col0 {\n",
       "            background-color:  #708fff;\n",
       "        }    #T_01563a62_b480_11e9_8e1d_1514c12b8259row3_col1 {\n",
       "            background-color:  #906fff;\n",
       "        }    #T_01563a62_b480_11e9_8e1d_1514c12b8259row4_col0 {\n",
       "            background-color:  #00ffff;\n",
       "        }    #T_01563a62_b480_11e9_8e1d_1514c12b8259row4_col1 {\n",
       "            background-color:  #ff00ff;\n",
       "        }</style>  \n",
       "<table id=\"T_01563a62_b480_11e9_8e1d_1514c12b8259\" > \n",
       "<thead>    <tr> \n",
       "        <th class=\"index_name level0\" >Survived</th> \n",
       "        <th class=\"col_heading level0 col0\" >0</th> \n",
       "        <th class=\"col_heading level0 col1\" >1</th> \n",
       "    </tr>    <tr> \n",
       "        <th class=\"index_name level0\" >Fare_Code</th> \n",
       "        <th class=\"blank\" ></th> \n",
       "        <th class=\"blank\" ></th> \n",
       "    </tr></thead> \n",
       "<tbody>    <tr> \n",
       "        <th id=\"T_01563a62_b480_11e9_8e1d_1514c12b8259level0_row0\" class=\"row_heading level0 row0\" >0</th> \n",
       "        <td id=\"T_01563a62_b480_11e9_8e1d_1514c12b8259row0_col0\" class=\"data row0 col0\" >140</td> \n",
       "        <td id=\"T_01563a62_b480_11e9_8e1d_1514c12b8259row0_col1\" class=\"data row0 col1\" >39</td> \n",
       "    </tr>    <tr> \n",
       "        <th id=\"T_01563a62_b480_11e9_8e1d_1514c12b8259level0_row1\" class=\"row_heading level0 row1\" >1</th> \n",
       "        <td id=\"T_01563a62_b480_11e9_8e1d_1514c12b8259row1_col0\" class=\"data row1 col0\" >147</td> \n",
       "        <td id=\"T_01563a62_b480_11e9_8e1d_1514c12b8259row1_col1\" class=\"data row1 col1\" >37</td> \n",
       "    </tr>    <tr> \n",
       "        <th id=\"T_01563a62_b480_11e9_8e1d_1514c12b8259level0_row2\" class=\"row_heading level0 row2\" >2</th> \n",
       "        <td id=\"T_01563a62_b480_11e9_8e1d_1514c12b8259row2_col0\" class=\"data row2 col0\" >99</td> \n",
       "        <td id=\"T_01563a62_b480_11e9_8e1d_1514c12b8259row2_col1\" class=\"data row2 col1\" >73</td> \n",
       "    </tr>    <tr> \n",
       "        <th id=\"T_01563a62_b480_11e9_8e1d_1514c12b8259level0_row3\" class=\"row_heading level0 row3\" >3</th> \n",
       "        <td id=\"T_01563a62_b480_11e9_8e1d_1514c12b8259row3_col0\" class=\"data row3 col0\" >100</td> \n",
       "        <td id=\"T_01563a62_b480_11e9_8e1d_1514c12b8259row3_col1\" class=\"data row3 col1\" >80</td> \n",
       "    </tr>    <tr> \n",
       "        <th id=\"T_01563a62_b480_11e9_8e1d_1514c12b8259level0_row4\" class=\"row_heading level0 row4\" >4</th> \n",
       "        <td id=\"T_01563a62_b480_11e9_8e1d_1514c12b8259row4_col0\" class=\"data row4 col0\" >63</td> \n",
       "        <td id=\"T_01563a62_b480_11e9_8e1d_1514c12b8259row4_col1\" class=\"data row4 col1\" >113</td> \n",
       "    </tr></tbody> \n",
       "</table> "
      ],
      "text/plain": [
       "<pandas.io.formats.style.Styler at 0x7f50b7783dd8>"
      ]
     },
     "execution_count": 52,
     "metadata": {},
     "output_type": "execute_result"
    }
   ],
   "source": [
    "pd.crosstab(train['Fare_Code'], train['Survived']).style.background_gradient(cmap='cool')"
   ]
  },
  {
   "cell_type": "code",
   "execution_count": 53,
   "metadata": {},
   "outputs": [
    {
     "data": {
      "image/png": "[encoded data removed]",
      "text/plain": [
       "<Figure size 1296x432 with 2 Axes>"
      ]
     },
     "metadata": {
      "needs_background": "light"
     },
     "output_type": "display_data"
    }
   ],
   "source": [
    "f, ax = plt.subplots(1,2, figsize=(18, 6))\n",
    "train.groupby(['Fare_Code','Survived']).size().unstack().plot(kind='bar', ax=ax[0])\n",
    "sns.catplot('Fare_Code', 'Survived', data=train, kind='bar', ax=ax[1])\n",
    "ax[0].set_title('Fare_Code vs Survived')\n",
    "ax[1].set_title('Fare_Code vs Survived')\n",
    "plt.close(2)\n",
    "plt.show()"
   ]
  },
  {
   "cell_type": "markdown",
   "metadata": {},
   "source": [
    "> **Observation(s)** \n",
    "- Higher the fare - better the chaces of survival"
   ]
  },
  {
   "cell_type": "markdown",
   "metadata": {},
   "source": [
    "### 3. Age, Name and Title"
   ]
  },
  {
   "cell_type": "markdown",
   "metadata": {},
   "source": [
    "Age has 177 missing values ~20% of the data. We could fill this with the median value but a better strategy would be to extract the salutation from the name and use it to assign the ages appropriately.\n",
    "\n",
    "Note : This strategy was taken from - https://www.kaggle.com/ash316/eda-to-prediction-dietanic"
   ]
  },
  {
   "cell_type": "markdown",
   "metadata": {},
   "source": [
    "### Extract the title from the name"
   ]
  },
  {
   "cell_type": "code",
   "execution_count": 54,
   "metadata": {},
   "outputs": [],
   "source": [
    "# Extract portion before the '.'\n",
    "\n",
    "train['Title'] = 0\n",
    "for salut in train:\n",
    "    train['Title'] = train.Name.str.extract('([A-Za-z]+)\\.')\n",
    "    \n",
    "test['Title'] = 0\n",
    "for salut in test:\n",
    "    test['Title'] = test.Name.str.extract('([A-Za-z]+)\\.')  "
   ]
  },
  {
   "cell_type": "code",
   "execution_count": 55,
   "metadata": {},
   "outputs": [
    {
     "data": {
      "text/html": [
       "<style  type=\"text/css\" >\n",
       "    #T_01bd4eaa_b480_11e9_8e1d_1514c12b8259row0_col0 {\n",
       "            background-color:  #00ffff;\n",
       "        }    #T_01bd4eaa_b480_11e9_8e1d_1514c12b8259row0_col1 {\n",
       "            background-color:  #00ffff;\n",
       "        }    #T_01bd4eaa_b480_11e9_8e1d_1514c12b8259row0_col2 {\n",
       "            background-color:  #ff00ff;\n",
       "        }    #T_01bd4eaa_b480_11e9_8e1d_1514c12b8259row0_col3 {\n",
       "            background-color:  #00ffff;\n",
       "        }    #T_01bd4eaa_b480_11e9_8e1d_1514c12b8259row0_col4 {\n",
       "            background-color:  #00ffff;\n",
       "        }    #T_01bd4eaa_b480_11e9_8e1d_1514c12b8259row0_col5 {\n",
       "            background-color:  #00ffff;\n",
       "        }    #T_01bd4eaa_b480_11e9_8e1d_1514c12b8259row0_col6 {\n",
       "            background-color:  #ff00ff;\n",
       "        }    #T_01bd4eaa_b480_11e9_8e1d_1514c12b8259row0_col7 {\n",
       "            background-color:  #00ffff;\n",
       "        }    #T_01bd4eaa_b480_11e9_8e1d_1514c12b8259row0_col8 {\n",
       "            background-color:  #00ffff;\n",
       "        }    #T_01bd4eaa_b480_11e9_8e1d_1514c12b8259row0_col9 {\n",
       "            background-color:  #ff00ff;\n",
       "        }    #T_01bd4eaa_b480_11e9_8e1d_1514c12b8259row0_col10 {\n",
       "            background-color:  #ff00ff;\n",
       "        }    #T_01bd4eaa_b480_11e9_8e1d_1514c12b8259row0_col11 {\n",
       "            background-color:  #ff00ff;\n",
       "        }    #T_01bd4eaa_b480_11e9_8e1d_1514c12b8259row0_col12 {\n",
       "            background-color:  #00ffff;\n",
       "        }    #T_01bd4eaa_b480_11e9_8e1d_1514c12b8259row0_col13 {\n",
       "            background-color:  #ff00ff;\n",
       "        }    #T_01bd4eaa_b480_11e9_8e1d_1514c12b8259row0_col14 {\n",
       "            background-color:  #ff00ff;\n",
       "        }    #T_01bd4eaa_b480_11e9_8e1d_1514c12b8259row0_col15 {\n",
       "            background-color:  #00ffff;\n",
       "        }    #T_01bd4eaa_b480_11e9_8e1d_1514c12b8259row0_col16 {\n",
       "            background-color:  #00ffff;\n",
       "        }    #T_01bd4eaa_b480_11e9_8e1d_1514c12b8259row1_col0 {\n",
       "            background-color:  #ff00ff;\n",
       "        }    #T_01bd4eaa_b480_11e9_8e1d_1514c12b8259row1_col1 {\n",
       "            background-color:  #ff00ff;\n",
       "        }    #T_01bd4eaa_b480_11e9_8e1d_1514c12b8259row1_col2 {\n",
       "            background-color:  #00ffff;\n",
       "        }    #T_01bd4eaa_b480_11e9_8e1d_1514c12b8259row1_col3 {\n",
       "            background-color:  #ff00ff;\n",
       "        }    #T_01bd4eaa_b480_11e9_8e1d_1514c12b8259row1_col4 {\n",
       "            background-color:  #ff00ff;\n",
       "        }    #T_01bd4eaa_b480_11e9_8e1d_1514c12b8259row1_col5 {\n",
       "            background-color:  #ff00ff;\n",
       "        }    #T_01bd4eaa_b480_11e9_8e1d_1514c12b8259row1_col6 {\n",
       "            background-color:  #00ffff;\n",
       "        }    #T_01bd4eaa_b480_11e9_8e1d_1514c12b8259row1_col7 {\n",
       "            background-color:  #ff00ff;\n",
       "        }    #T_01bd4eaa_b480_11e9_8e1d_1514c12b8259row1_col8 {\n",
       "            background-color:  #ff00ff;\n",
       "        }    #T_01bd4eaa_b480_11e9_8e1d_1514c12b8259row1_col9 {\n",
       "            background-color:  #00ffff;\n",
       "        }    #T_01bd4eaa_b480_11e9_8e1d_1514c12b8259row1_col10 {\n",
       "            background-color:  #00ffff;\n",
       "        }    #T_01bd4eaa_b480_11e9_8e1d_1514c12b8259row1_col11 {\n",
       "            background-color:  #00ffff;\n",
       "        }    #T_01bd4eaa_b480_11e9_8e1d_1514c12b8259row1_col12 {\n",
       "            background-color:  #ff00ff;\n",
       "        }    #T_01bd4eaa_b480_11e9_8e1d_1514c12b8259row1_col13 {\n",
       "            background-color:  #00ffff;\n",
       "        }    #T_01bd4eaa_b480_11e9_8e1d_1514c12b8259row1_col14 {\n",
       "            background-color:  #00ffff;\n",
       "        }    #T_01bd4eaa_b480_11e9_8e1d_1514c12b8259row1_col15 {\n",
       "            background-color:  #ff00ff;\n",
       "        }    #T_01bd4eaa_b480_11e9_8e1d_1514c12b8259row1_col16 {\n",
       "            background-color:  #ff00ff;\n",
       "        }</style>  \n",
       "<table id=\"T_01bd4eaa_b480_11e9_8e1d_1514c12b8259\" > \n",
       "<thead>    <tr> \n",
       "        <th class=\"index_name level0\" >Title</th> \n",
       "        <th class=\"col_heading level0 col0\" >Capt</th> \n",
       "        <th class=\"col_heading level0 col1\" >Col</th> \n",
       "        <th class=\"col_heading level0 col2\" >Countess</th> \n",
       "        <th class=\"col_heading level0 col3\" >Don</th> \n",
       "        <th class=\"col_heading level0 col4\" >Dr</th> \n",
       "        <th class=\"col_heading level0 col5\" >Jonkheer</th> \n",
       "        <th class=\"col_heading level0 col6\" >Lady</th> \n",
       "        <th class=\"col_heading level0 col7\" >Major</th> \n",
       "        <th class=\"col_heading level0 col8\" >Master</th> \n",
       "        <th class=\"col_heading level0 col9\" >Miss</th> \n",
       "        <th class=\"col_heading level0 col10\" >Mlle</th> \n",
       "        <th class=\"col_heading level0 col11\" >Mme</th> \n",
       "        <th class=\"col_heading level0 col12\" >Mr</th> \n",
       "        <th class=\"col_heading level0 col13\" >Mrs</th> \n",
       "        <th class=\"col_heading level0 col14\" >Ms</th> \n",
       "        <th class=\"col_heading level0 col15\" >Rev</th> \n",
       "        <th class=\"col_heading level0 col16\" >Sir</th> \n",
       "    </tr>    <tr> \n",
       "        <th class=\"index_name level0\" >Sex</th> \n",
       "        <th class=\"blank\" ></th> \n",
       "        <th class=\"blank\" ></th> \n",
       "        <th class=\"blank\" ></th> \n",
       "        <th class=\"blank\" ></th> \n",
       "        <th class=\"blank\" ></th> \n",
       "        <th class=\"blank\" ></th> \n",
       "        <th class=\"blank\" ></th> \n",
       "        <th class=\"blank\" ></th> \n",
       "        <th class=\"blank\" ></th> \n",
       "        <th class=\"blank\" ></th> \n",
       "        <th class=\"blank\" ></th> \n",
       "        <th class=\"blank\" ></th> \n",
       "        <th class=\"blank\" ></th> \n",
       "        <th class=\"blank\" ></th> \n",
       "        <th class=\"blank\" ></th> \n",
       "        <th class=\"blank\" ></th> \n",
       "        <th class=\"blank\" ></th> \n",
       "    </tr></thead> \n",
       "<tbody>    <tr> \n",
       "        <th id=\"T_01bd4eaa_b480_11e9_8e1d_1514c12b8259level0_row0\" class=\"row_heading level0 row0\" >female</th> \n",
       "        <td id=\"T_01bd4eaa_b480_11e9_8e1d_1514c12b8259row0_col0\" class=\"data row0 col0\" >0</td> \n",
       "        <td id=\"T_01bd4eaa_b480_11e9_8e1d_1514c12b8259row0_col1\" class=\"data row0 col1\" >0</td> \n",
       "        <td id=\"T_01bd4eaa_b480_11e9_8e1d_1514c12b8259row0_col2\" class=\"data row0 col2\" >1</td> \n",
       "        <td id=\"T_01bd4eaa_b480_11e9_8e1d_1514c12b8259row0_col3\" class=\"data row0 col3\" >0</td> \n",
       "        <td id=\"T_01bd4eaa_b480_11e9_8e1d_1514c12b8259row0_col4\" class=\"data row0 col4\" >1</td> \n",
       "        <td id=\"T_01bd4eaa_b480_11e9_8e1d_1514c12b8259row0_col5\" class=\"data row0 col5\" >0</td> \n",
       "        <td id=\"T_01bd4eaa_b480_11e9_8e1d_1514c12b8259row0_col6\" class=\"data row0 col6\" >1</td> \n",
       "        <td id=\"T_01bd4eaa_b480_11e9_8e1d_1514c12b8259row0_col7\" class=\"data row0 col7\" >0</td> \n",
       "        <td id=\"T_01bd4eaa_b480_11e9_8e1d_1514c12b8259row0_col8\" class=\"data row0 col8\" >0</td> \n",
       "        <td id=\"T_01bd4eaa_b480_11e9_8e1d_1514c12b8259row0_col9\" class=\"data row0 col9\" >182</td> \n",
       "        <td id=\"T_01bd4eaa_b480_11e9_8e1d_1514c12b8259row0_col10\" class=\"data row0 col10\" >2</td> \n",
       "        <td id=\"T_01bd4eaa_b480_11e9_8e1d_1514c12b8259row0_col11\" class=\"data row0 col11\" >1</td> \n",
       "        <td id=\"T_01bd4eaa_b480_11e9_8e1d_1514c12b8259row0_col12\" class=\"data row0 col12\" >0</td> \n",
       "        <td id=\"T_01bd4eaa_b480_11e9_8e1d_1514c12b8259row0_col13\" class=\"data row0 col13\" >125</td> \n",
       "        <td id=\"T_01bd4eaa_b480_11e9_8e1d_1514c12b8259row0_col14\" class=\"data row0 col14\" >1</td> \n",
       "        <td id=\"T_01bd4eaa_b480_11e9_8e1d_1514c12b8259row0_col15\" class=\"data row0 col15\" >0</td> \n",
       "        <td id=\"T_01bd4eaa_b480_11e9_8e1d_1514c12b8259row0_col16\" class=\"data row0 col16\" >0</td> \n",
       "    </tr>    <tr> \n",
       "        <th id=\"T_01bd4eaa_b480_11e9_8e1d_1514c12b8259level0_row1\" class=\"row_heading level0 row1\" >male</th> \n",
       "        <td id=\"T_01bd4eaa_b480_11e9_8e1d_1514c12b8259row1_col0\" class=\"data row1 col0\" >1</td> \n",
       "        <td id=\"T_01bd4eaa_b480_11e9_8e1d_1514c12b8259row1_col1\" class=\"data row1 col1\" >2</td> \n",
       "        <td id=\"T_01bd4eaa_b480_11e9_8e1d_1514c12b8259row1_col2\" class=\"data row1 col2\" >0</td> \n",
       "        <td id=\"T_01bd4eaa_b480_11e9_8e1d_1514c12b8259row1_col3\" class=\"data row1 col3\" >1</td> \n",
       "        <td id=\"T_01bd4eaa_b480_11e9_8e1d_1514c12b8259row1_col4\" class=\"data row1 col4\" >6</td> \n",
       "        <td id=\"T_01bd4eaa_b480_11e9_8e1d_1514c12b8259row1_col5\" class=\"data row1 col5\" >1</td> \n",
       "        <td id=\"T_01bd4eaa_b480_11e9_8e1d_1514c12b8259row1_col6\" class=\"data row1 col6\" >0</td> \n",
       "        <td id=\"T_01bd4eaa_b480_11e9_8e1d_1514c12b8259row1_col7\" class=\"data row1 col7\" >2</td> \n",
       "        <td id=\"T_01bd4eaa_b480_11e9_8e1d_1514c12b8259row1_col8\" class=\"data row1 col8\" >40</td> \n",
       "        <td id=\"T_01bd4eaa_b480_11e9_8e1d_1514c12b8259row1_col9\" class=\"data row1 col9\" >0</td> \n",
       "        <td id=\"T_01bd4eaa_b480_11e9_8e1d_1514c12b8259row1_col10\" class=\"data row1 col10\" >0</td> \n",
       "        <td id=\"T_01bd4eaa_b480_11e9_8e1d_1514c12b8259row1_col11\" class=\"data row1 col11\" >0</td> \n",
       "        <td id=\"T_01bd4eaa_b480_11e9_8e1d_1514c12b8259row1_col12\" class=\"data row1 col12\" >517</td> \n",
       "        <td id=\"T_01bd4eaa_b480_11e9_8e1d_1514c12b8259row1_col13\" class=\"data row1 col13\" >0</td> \n",
       "        <td id=\"T_01bd4eaa_b480_11e9_8e1d_1514c12b8259row1_col14\" class=\"data row1 col14\" >0</td> \n",
       "        <td id=\"T_01bd4eaa_b480_11e9_8e1d_1514c12b8259row1_col15\" class=\"data row1 col15\" >6</td> \n",
       "        <td id=\"T_01bd4eaa_b480_11e9_8e1d_1514c12b8259row1_col16\" class=\"data row1 col16\" >1</td> \n",
       "    </tr></tbody> \n",
       "</table> "
      ],
      "text/plain": [
       "<pandas.io.formats.style.Styler at 0x7f50b781f1d0>"
      ]
     },
     "execution_count": 55,
     "metadata": {},
     "output_type": "execute_result"
    }
   ],
   "source": [
    "pd.crosstab(train['Title'], train['Sex']).T.style.background_gradient(cmap='cool')"
   ]
  },
  {
   "cell_type": "markdown",
   "metadata": {},
   "source": [
    "### Replace the rare titles"
   ]
  },
  {
   "cell_type": "code",
   "execution_count": 56,
   "metadata": {},
   "outputs": [],
   "source": [
    "# Replacing the titles \n",
    "mapping = {'Mlle': 'Miss', \n",
    "           'Major': 'Mr', \n",
    "           'Col': 'Mr', \n",
    "           'Sir': 'Mr', \n",
    "           'Don': 'Mr',\n",
    "           'Mme': 'Miss',\n",
    "           'Jonkheer': 'Mr',\n",
    "           'Lady': 'Mrs', \n",
    "           'Capt': 'Mr', \n",
    "           'Countess': 'Mrs', \n",
    "           'Ms': 'Miss', \n",
    "           'Dona': 'Mrs'\n",
    "           }\n",
    "train.replace({'Title': mapping}, inplace=True)\n",
    "test.replace({'Title': mapping}, inplace=True)"
   ]
  },
  {
   "cell_type": "markdown",
   "metadata": {},
   "source": [
    "###  Replace age with median age for each title in train and test data"
   ]
  },
  {
   "cell_type": "code",
   "execution_count": 57,
   "metadata": {},
   "outputs": [],
   "source": [
    "data_df = train.append(test)\n",
    "\n",
    "titles = ['Dr', 'Master', 'Miss', 'Mr', 'Mrs', 'Rev']\n",
    "for title in titles:\n",
    "    age_to_impute = data_df.groupby('Title')['Age'].median()[titles.index(title)]\n",
    "    data_df.loc[(data_df['Age'].isnull()) & (data_df['Title'] == title), 'Age'] = age_to_impute    "
   ]
  },
  {
   "cell_type": "code",
   "execution_count": 58,
   "metadata": {},
   "outputs": [],
   "source": [
    "# Substituting Age values in TRAIN_DF and TEST_DF:\n",
    "train['Age'] = data_df['Age'][:891]\n",
    "test['Age'] = data_df['Age'][891:]"
   ]
  },
  {
   "cell_type": "code",
   "execution_count": 59,
   "metadata": {},
   "outputs": [
    {
     "data": {
      "text/html": [
       "<style  type=\"text/css\" >\n",
       "    #T_01d03e66_b480_11e9_8e1d_1514c12b8259row0_col1 {\n",
       "            background-color:  #8976ff;\n",
       "        }    #T_01d03e66_b480_11e9_8e1d_1514c12b8259row1_col1 {\n",
       "            background-color:  #b946ff;\n",
       "        }    #T_01d03e66_b480_11e9_8e1d_1514c12b8259row2_col1 {\n",
       "            background-color:  #e21dff;\n",
       "        }    #T_01d03e66_b480_11e9_8e1d_1514c12b8259row3_col1 {\n",
       "            background-color:  #33ccff;\n",
       "        }    #T_01d03e66_b480_11e9_8e1d_1514c12b8259row4_col1 {\n",
       "            background-color:  #ff00ff;\n",
       "        }    #T_01d03e66_b480_11e9_8e1d_1514c12b8259row5_col1 {\n",
       "            background-color:  #00ffff;\n",
       "        }</style>  \n",
       "<table id=\"T_01d03e66_b480_11e9_8e1d_1514c12b8259\" > \n",
       "<thead>    <tr> \n",
       "        <th class=\"blank level0\" ></th> \n",
       "        <th class=\"col_heading level0 col0\" >Title</th> \n",
       "        <th class=\"col_heading level0 col1\" >Survived</th> \n",
       "    </tr></thead> \n",
       "<tbody>    <tr> \n",
       "        <th id=\"T_01d03e66_b480_11e9_8e1d_1514c12b8259level0_row0\" class=\"row_heading level0 row0\" >0</th> \n",
       "        <td id=\"T_01d03e66_b480_11e9_8e1d_1514c12b8259row0_col0\" class=\"data row0 col0\" >Dr</td> \n",
       "        <td id=\"T_01d03e66_b480_11e9_8e1d_1514c12b8259row0_col1\" class=\"data row0 col1\" >0.428571</td> \n",
       "    </tr>    <tr> \n",
       "        <th id=\"T_01d03e66_b480_11e9_8e1d_1514c12b8259level0_row1\" class=\"row_heading level0 row1\" >1</th> \n",
       "        <td id=\"T_01d03e66_b480_11e9_8e1d_1514c12b8259row1_col0\" class=\"data row1 col0\" >Master</td> \n",
       "        <td id=\"T_01d03e66_b480_11e9_8e1d_1514c12b8259row1_col1\" class=\"data row1 col1\" >0.575</td> \n",
       "    </tr>    <tr> \n",
       "        <th id=\"T_01d03e66_b480_11e9_8e1d_1514c12b8259level0_row2\" class=\"row_heading level0 row2\" >2</th> \n",
       "        <td id=\"T_01d03e66_b480_11e9_8e1d_1514c12b8259row2_col0\" class=\"data row2 col0\" >Miss</td> \n",
       "        <td id=\"T_01d03e66_b480_11e9_8e1d_1514c12b8259row2_col1\" class=\"data row2 col1\" >0.704301</td> \n",
       "    </tr>    <tr> \n",
       "        <th id=\"T_01d03e66_b480_11e9_8e1d_1514c12b8259level0_row3\" class=\"row_heading level0 row3\" >3</th> \n",
       "        <td id=\"T_01d03e66_b480_11e9_8e1d_1514c12b8259row3_col0\" class=\"data row3 col0\" >Mr</td> \n",
       "        <td id=\"T_01d03e66_b480_11e9_8e1d_1514c12b8259row3_col1\" class=\"data row3 col1\" >0.16</td> \n",
       "    </tr>    <tr> \n",
       "        <th id=\"T_01d03e66_b480_11e9_8e1d_1514c12b8259level0_row4\" class=\"row_heading level0 row4\" >4</th> \n",
       "        <td id=\"T_01d03e66_b480_11e9_8e1d_1514c12b8259row4_col0\" class=\"data row4 col0\" >Mrs</td> \n",
       "        <td id=\"T_01d03e66_b480_11e9_8e1d_1514c12b8259row4_col1\" class=\"data row4 col1\" >0.795276</td> \n",
       "    </tr>    <tr> \n",
       "        <th id=\"T_01d03e66_b480_11e9_8e1d_1514c12b8259level0_row5\" class=\"row_heading level0 row5\" >5</th> \n",
       "        <td id=\"T_01d03e66_b480_11e9_8e1d_1514c12b8259row5_col0\" class=\"data row5 col0\" >Rev</td> \n",
       "        <td id=\"T_01d03e66_b480_11e9_8e1d_1514c12b8259row5_col1\" class=\"data row5 col1\" >0</td> \n",
       "    </tr></tbody> \n",
       "</table> "
      ],
      "text/plain": [
       "<pandas.io.formats.style.Styler at 0x7f50b79dcef0>"
      ]
     },
     "execution_count": 59,
     "metadata": {},
     "output_type": "execute_result"
    }
   ],
   "source": [
    "train[['Title', 'Survived']].groupby(['Title'], as_index=False).mean().style.background_gradient(cmap='cool')"
   ]
  },
  {
   "cell_type": "code",
   "execution_count": 60,
   "metadata": {},
   "outputs": [
    {
     "data": {
      "image/png": "[encoded data removed]",
      "text/plain": [
       "<Figure size 2160x360 with 6 Axes>"
      ]
     },
     "metadata": {},
     "output_type": "display_data"
    }
   ],
   "source": [
    "plt.style.use('fivethirtyeight')\n",
    "sns.catplot('Pclass','Survived', col='Title', data=train, kind='point')\n",
    "plt.show()"
   ]
  },
  {
   "cell_type": "markdown",
   "metadata": {},
   "source": [
    "> **Observation(s)** \n",
    "- Women and girls fared better overall in survival chances\n",
    "- Boys from 1st and 2nd class fared better too\n",
    "- Boys from 3rd class had less chance of survival\n",
    "- Overall survivor chances for men were slim"
   ]
  },
  {
   "cell_type": "code",
   "execution_count": 61,
   "metadata": {},
   "outputs": [],
   "source": [
    "plt.style.use('default')"
   ]
  },
  {
   "cell_type": "markdown",
   "metadata": {},
   "source": [
    "### Dividing the Age attribute into Age Category Intervals "
   ]
  },
  {
   "cell_type": "code",
   "execution_count": 62,
   "metadata": {},
   "outputs": [],
   "source": [
    "train['AgeCategory'] = pd.qcut(train['Age'], 4)\n",
    "test['AgeCategory'] = pd.qcut(test['Age'], 4)"
   ]
  },
  {
   "cell_type": "code",
   "execution_count": 63,
   "metadata": {},
   "outputs": [],
   "source": [
    "train['Age_Code'] = LabelEncoder().fit_transform(train['AgeCategory'])\n",
    "test['Age_Code'] = LabelEncoder().fit_transform(test['AgeCategory'])"
   ]
  },
  {
   "cell_type": "markdown",
   "metadata": {},
   "source": [
    "### Add family survival feature"
   ]
  },
  {
   "cell_type": "markdown",
   "metadata": {},
   "source": [
    "#### This strategy was taken from [Titanic [0.82] - [0.83]](https://www.kaggle.com/konstantinmasich/titanic-0-82-0-83)  which in turn was taken from [S.Xu's kernel ](https://www.kaggle.com/shunjiangxu/blood-is-thicker-than-water-friendship-forever). Basically families (same last name) and people with same tickets are grouped together. No changes have been made to the code."
   ]
  },
  {
   "cell_type": "code",
   "execution_count": 64,
   "metadata": {},
   "outputs": [
    {
     "name": "stdout",
     "output_type": "stream",
     "text": [
      "Number of passengers with family survival information: 420\n"
     ]
    }
   ],
   "source": [
    "data_df['Last_Name'] = data_df['Name'].apply(lambda x: str.split(x, \",\")[0])\n",
    "\n",
    "DEFAULT_SURVIVAL_VALUE = 0.5\n",
    "data_df['Family_Survival'] = DEFAULT_SURVIVAL_VALUE\n",
    "\n",
    "for grp, grp_df in data_df[['Survived','Name', 'Last_Name', 'Fare', 'Ticket', 'PassengerId',\n",
    "                           'SibSp', 'Parch', 'Age', 'Cabin']].groupby(['Last_Name', 'Fare']):\n",
    "    \n",
    "    if (len(grp_df) != 1):\n",
    "        # A Family group is found.\n",
    "        for ind, row in grp_df.iterrows():\n",
    "            smax = grp_df.drop(ind)['Survived'].max()\n",
    "            smin = grp_df.drop(ind)['Survived'].min()\n",
    "            passID = row['PassengerId']\n",
    "            if (smax == 1.0):\n",
    "                data_df.loc[data_df['PassengerId'] == passID, 'Family_Survival'] = 1\n",
    "            elif (smin==0.0):\n",
    "                data_df.loc[data_df['PassengerId'] == passID, 'Family_Survival'] = 0\n",
    "\n",
    "print(\"Number of passengers with family survival information:\", \n",
    "      data_df.loc[data_df['Family_Survival']!=0.5].shape[0])"
   ]
  },
  {
   "cell_type": "code",
   "execution_count": 65,
   "metadata": {},
   "outputs": [
    {
     "name": "stdout",
     "output_type": "stream",
     "text": [
      "Number of passenger with family/group survival information: 546\n"
     ]
    }
   ],
   "source": [
    "for _, grp_df in data_df.groupby('Ticket'):\n",
    "    if (len(grp_df) != 1):\n",
    "        for ind, row in grp_df.iterrows():\n",
    "            if (row['Family_Survival'] == 0) | (row['Family_Survival']== 0.5):\n",
    "                smax = grp_df.drop(ind)['Survived'].max()\n",
    "                smin = grp_df.drop(ind)['Survived'].min()\n",
    "                passID = row['PassengerId']\n",
    "                if (smax == 1.0):\n",
    "                    data_df.loc[data_df['PassengerId'] == passID, 'Family_Survival'] = 1\n",
    "                elif (smin==0.0):\n",
    "                    data_df.loc[data_df['PassengerId'] == passID, 'Family_Survival'] = 0\n",
    "                        \n",
    "print(\"Number of passenger with family/group survival information: \" \n",
    "      +str(data_df[data_df['Family_Survival']!=0.5].shape[0]))\n",
    "\n",
    "# # Family_Survival in TRAIN_DF and TEST_DF:\n",
    "train['Family_Survival'] = data_df['Family_Survival'][:891]\n",
    "test['Family_Survival'] = data_df['Family_Survival'][891:]"
   ]
  },
  {
   "cell_type": "markdown",
   "metadata": {},
   "source": [
    "### Categorize the Sex Column"
   ]
  },
  {
   "cell_type": "code",
   "execution_count": 66,
   "metadata": {},
   "outputs": [],
   "source": [
    "train['Sex'].replace(['male','female'],[0,1],inplace=True)\n",
    "test['Sex'].replace(['male','female'],[0,1],inplace=True)"
   ]
  },
  {
   "cell_type": "markdown",
   "metadata": {},
   "source": [
    "## <a id='3.3'>3.3 Data Cleaning </a> "
   ]
  },
  {
   "cell_type": "markdown",
   "metadata": {},
   "source": [
    "Drop the columns that are not required and simplify the other features for prediction"
   ]
  },
  {
   "cell_type": "markdown",
   "metadata": {},
   "source": [
    "### 2.  Drop columns that are not required "
   ]
  },
  {
   "cell_type": "code",
   "execution_count": 67,
   "metadata": {},
   "outputs": [],
   "source": [
    "drop_elements = ['PassengerId', 'Name', 'SibSp', 'Parch','Ticket', 'Cabin', 'FareCategory', 'AgeCategory','Age', 'Fare', 'Title', 'Embarked']\n"
   ]
  },
  {
   "cell_type": "code",
   "execution_count": 68,
   "metadata": {},
   "outputs": [],
   "source": [
    "train = train.drop(drop_elements, axis=1)\n",
    "test = test.drop(drop_elements, axis=1)"
   ]
  },
  {
   "cell_type": "code",
   "execution_count": 69,
   "metadata": {},
   "outputs": [],
   "source": [
    "# Copying the Survived column data \n",
    "y = train['Survived']"
   ]
  },
  {
   "cell_type": "code",
   "execution_count": 70,
   "metadata": {},
   "outputs": [],
   "source": [
    "X = train[train.columns[1:]]\n"
   ]
  },
  {
   "cell_type": "markdown",
   "metadata": {},
   "source": [
    "### 3.  Clean Data"
   ]
  },
  {
   "cell_type": "code",
   "execution_count": 71,
   "metadata": {},
   "outputs": [],
   "source": [
    "# Data is now clean and can be used in the models"
   ]
  },
  {
   "cell_type": "code",
   "execution_count": 72,
   "metadata": {},
   "outputs": [
    {
     "data": {
      "text/html": [
       "<div>\n",
       "<style scoped>\n",
       "    .dataframe tbody tr th:only-of-type {\n",
       "        vertical-align: middle;\n",
       "    }\n",
       "\n",
       "    .dataframe tbody tr th {\n",
       "        vertical-align: top;\n",
       "    }\n",
       "\n",
       "    .dataframe thead th {\n",
       "        text-align: right;\n",
       "    }\n",
       "</style>\n",
       "<table border=\"1\" class=\"dataframe\">\n",
       "  <thead>\n",
       "    <tr style=\"text-align: right;\">\n",
       "      <th></th>\n",
       "      <th>Survived</th>\n",
       "      <th>Pclass</th>\n",
       "      <th>Sex</th>\n",
       "      <th>FamilySize</th>\n",
       "      <th>Fare_Code</th>\n",
       "      <th>Age_Code</th>\n",
       "      <th>Family_Survival</th>\n",
       "    </tr>\n",
       "  </thead>\n",
       "  <tbody>\n",
       "    <tr>\n",
       "      <th>0</th>\n",
       "      <td>0</td>\n",
       "      <td>3</td>\n",
       "      <td>0</td>\n",
       "      <td>1</td>\n",
       "      <td>0</td>\n",
       "      <td>0</td>\n",
       "      <td>0.5</td>\n",
       "    </tr>\n",
       "    <tr>\n",
       "      <th>1</th>\n",
       "      <td>1</td>\n",
       "      <td>1</td>\n",
       "      <td>1</td>\n",
       "      <td>1</td>\n",
       "      <td>4</td>\n",
       "      <td>3</td>\n",
       "      <td>0.5</td>\n",
       "    </tr>\n",
       "    <tr>\n",
       "      <th>2</th>\n",
       "      <td>1</td>\n",
       "      <td>3</td>\n",
       "      <td>1</td>\n",
       "      <td>0</td>\n",
       "      <td>1</td>\n",
       "      <td>1</td>\n",
       "      <td>0.5</td>\n",
       "    </tr>\n",
       "    <tr>\n",
       "      <th>3</th>\n",
       "      <td>1</td>\n",
       "      <td>1</td>\n",
       "      <td>1</td>\n",
       "      <td>1</td>\n",
       "      <td>4</td>\n",
       "      <td>2</td>\n",
       "      <td>0.0</td>\n",
       "    </tr>\n",
       "    <tr>\n",
       "      <th>4</th>\n",
       "      <td>0</td>\n",
       "      <td>3</td>\n",
       "      <td>0</td>\n",
       "      <td>0</td>\n",
       "      <td>1</td>\n",
       "      <td>2</td>\n",
       "      <td>0.5</td>\n",
       "    </tr>\n",
       "  </tbody>\n",
       "</table>\n",
       "</div>"
      ],
      "text/plain": [
       "   Survived  Pclass  Sex  FamilySize  Fare_Code  Age_Code  Family_Survival\n",
       "0         0       3    0           1          0         0              0.5\n",
       "1         1       1    1           1          4         3              0.5\n",
       "2         1       3    1           0          1         1              0.5\n",
       "3         1       1    1           1          4         2              0.0\n",
       "4         0       3    0           0          1         2              0.5"
      ]
     },
     "execution_count": 72,
     "metadata": {},
     "output_type": "execute_result"
    }
   ],
   "source": [
    "train.head()"
   ]
  },
  {
   "cell_type": "markdown",
   "metadata": {},
   "source": [
    "# <a id='4'>4. Models </a> "
   ]
  },
  {
   "cell_type": "markdown",
   "metadata": {},
   "source": [
    "## <a id='4.1'>4.1. Pipeline, ColumnTransformer </a> "
   ]
  },
  {
   "cell_type": "code",
   "execution_count": 73,
   "metadata": {},
   "outputs": [],
   "source": [
    "from sklearn.compose import ColumnTransformer\n",
    "from sklearn.pipeline import Pipeline\n",
    "from sklearn.model_selection import train_test_split, GridSearchCV\n",
    "from sklearn.impute import SimpleImputer\n",
    "from sklearn.preprocessing import StandardScaler"
   ]
  },
  {
   "cell_type": "markdown",
   "metadata": {},
   "source": [
    "### 1. Scaling the features"
   ]
  },
  {
   "cell_type": "code",
   "execution_count": 74,
   "metadata": {},
   "outputs": [],
   "source": [
    "all_features = ['Pclass', 'Sex', 'FamilySize', 'Fare_Code', 'Age_Code', 'Family_Survival']"
   ]
  },
  {
   "cell_type": "code",
   "execution_count": 75,
   "metadata": {},
   "outputs": [],
   "source": [
    "all_transformer = Pipeline(steps = [\n",
    "    ('stdscaler', StandardScaler())\n",
    "])"
   ]
  },
  {
   "cell_type": "code",
   "execution_count": 76,
   "metadata": {},
   "outputs": [],
   "source": [
    "all_preprocess = ColumnTransformer(\n",
    "    transformers = [\n",
    "        ('allfeatures', all_transformer, all_features),\n",
    "    ]\n",
    ")"
   ]
  },
  {
   "cell_type": "markdown",
   "metadata": {},
   "source": [
    "## <a id='4.2'>4.2. Split Data </a> "
   ]
  },
  {
   "cell_type": "code",
   "execution_count": 77,
   "metadata": {},
   "outputs": [],
   "source": [
    "X_train, X_test, y_train, y_test = train_test_split(X, y, test_size=0.2, stratify=train['Survived'])"
   ]
  },
  {
   "cell_type": "markdown",
   "metadata": {},
   "source": [
    "## <a id='4.3'>4.3 Evaluate Models </a> "
   ]
  },
  {
   "cell_type": "code",
   "execution_count": 78,
   "metadata": {},
   "outputs": [],
   "source": [
    "from sklearn.linear_model import LogisticRegression\n",
    "from sklearn.ensemble import RandomForestClassifier\n",
    "from sklearn.svm import SVC\n",
    "from sklearn.neighbors import KNeighborsClassifier\n",
    "from sklearn.linear_model import SGDClassifier\n",
    "\n",
    "from sklearn.model_selection import cross_val_score"
   ]
  },
  {
   "cell_type": "markdown",
   "metadata": {},
   "source": [
    "### Running a set of classifiers with no hyper parameter tuning"
   ]
  },
  {
   "cell_type": "code",
   "execution_count": 79,
   "metadata": {},
   "outputs": [],
   "source": [
    "classifiers = [\n",
    "    LogisticRegression(random_state=42),\n",
    "    RandomForestClassifier(random_state=42),\n",
    "    SVC(random_state=42),\n",
    "    KNeighborsClassifier(),\n",
    "    SGDClassifier(random_state=42),\n",
    "    ]"
   ]
  },
  {
   "cell_type": "code",
   "execution_count": 80,
   "metadata": {},
   "outputs": [
    {
     "name": "stdout",
     "output_type": "stream",
     "text": [
      "LogisticRegression(C=1.0, class_weight=None, dual=False, fit_intercept=True,\n",
      "                   intercept_scaling=1, l1_ratio=None, max_iter=100,\n",
      "                   multi_class='warn', n_jobs=None, penalty='l2',\n",
      "                   random_state=42, solver='warn', tol=0.0001, verbose=0,\n",
      "                   warm_start=False)\n",
      "model score: 0.804\n",
      "RandomForestClassifier(bootstrap=True, class_weight=None, criterion='gini',\n",
      "                       max_depth=None, max_features='auto', max_leaf_nodes=None,\n",
      "                       min_impurity_decrease=0.0, min_impurity_split=None,\n",
      "                       min_samples_leaf=1, min_samples_split=2,\n",
      "                       min_weight_fraction_leaf=0.0, n_estimators=10,\n",
      "                       n_jobs=None, oob_score=False, random_state=42, verbose=0,\n",
      "                       warm_start=False)\n",
      "model score: 0.816\n",
      "SVC(C=1.0, cache_size=200, class_weight=None, coef0=0.0,\n",
      "    decision_function_shape='ovr', degree=3, gamma='auto_deprecated',\n",
      "    kernel='rbf', max_iter=-1, probability=False, random_state=42,\n",
      "    shrinking=True, tol=0.001, verbose=False)\n",
      "model score: 0.832\n",
      "KNeighborsClassifier(algorithm='auto', leaf_size=30, metric='minkowski',\n",
      "                     metric_params=None, n_jobs=None, n_neighbors=5, p=2,\n",
      "                     weights='uniform')\n",
      "model score: 0.821\n",
      "SGDClassifier(alpha=0.0001, average=False, class_weight=None,\n",
      "              early_stopping=False, epsilon=0.1, eta0=0.0, fit_intercept=True,\n",
      "              l1_ratio=0.15, learning_rate='optimal', loss='hinge',\n",
      "              max_iter=1000, n_iter_no_change=5, n_jobs=None, penalty='l2',\n",
      "              power_t=0.5, random_state=42, shuffle=True, tol=0.001,\n",
      "              validation_fraction=0.1, verbose=0, warm_start=False)\n",
      "model score: 0.749\n"
     ]
    }
   ],
   "source": [
    "first_round_scores = {}\n",
    "for classifier in classifiers:\n",
    "    pipe = Pipeline(steps=[('preprocessor', all_preprocess),\n",
    "                      ('classifier', classifier)])\n",
    "    pipe.fit(X_train, y_train)   \n",
    "    print(classifier)\n",
    "    score = pipe.score(X_test, y_test)\n",
    "    first_round_scores[classifier.__class__.__name__[:10]] = score\n",
    "    print(\"model score: %.3f\" % score)"
   ]
  },
  {
   "cell_type": "code",
   "execution_count": 81,
   "metadata": {},
   "outputs": [
    {
     "data": {
      "image/png": "[encoded data removed]",
      "text/plain": [
       "<Figure size 800x500 with 1 Axes>"
      ]
     },
     "metadata": {},
     "output_type": "display_data"
    }
   ],
   "source": [
    "# Plot the model scores\n",
    "plt.plot(first_round_scores.keys(), first_round_scores.values(), \"ro\", markersize=10)\n",
    "fig=plt.gcf()\n",
    "fig.set_size_inches(8,5)\n",
    "plt.title('Model Scores of the Classifiers - with no tuning ')\n",
    "plt.show()"
   ]
  },
  {
   "cell_type": "markdown",
   "metadata": {},
   "source": [
    "### Hyperparameter tuning may change the best classifier from the above graph"
   ]
  },
  {
   "cell_type": "markdown",
   "metadata": {},
   "source": [
    "# <a id='5'>5. Hyper Parameters </a> "
   ]
  },
  {
   "cell_type": "markdown",
   "metadata": {},
   "source": [
    "## <a id='5.1'>5.1. Hyper Parameter Tuning </a> "
   ]
  },
  {
   "cell_type": "markdown",
   "metadata": {},
   "source": [
    "### 1. Logistic Regression HyperParameter Tuning"
   ]
  },
  {
   "cell_type": "code",
   "execution_count": 82,
   "metadata": {},
   "outputs": [
    {
     "name": "stdout",
     "output_type": "stream",
     "text": [
      "Logistic Regression - grid_search.best_params_ and best_scores_ {'classifier__C': 0.1, 'classifier__max_iter': 500, 'classifier__solver': 'lbfgs'} 0.827247191011236\n",
      "Logistic Regression - model score:  0.8268156424581006\n"
     ]
    }
   ],
   "source": [
    "grid_scores = {}\n",
    "log_clf = Pipeline(steps=[('preprocessor', all_preprocess),\n",
    "                      ('classifier', LogisticRegression(random_state=42))])\n",
    "\n",
    "log_param_grid = {\n",
    "    'classifier__C': [0.01, 0.1, 1.0, 10],\n",
    "    'classifier__solver' : ['liblinear','lbfgs','sag', 'saga'],\n",
    "    'classifier__max_iter' : [500],\n",
    "}\n",
    "\n",
    "log_grid_search = GridSearchCV(log_clf, log_param_grid, cv=10, iid=True)\n",
    "log_grid_search.fit(X_train, y_train)\n",
    "\n",
    "print('Logistic Regression - grid_search.best_params_ and best_scores_', log_grid_search.best_params_, log_grid_search.best_score_)\n",
    "log_model_score = log_grid_search.score(X_test, y_test)\n",
    "print(\"Logistic Regression - model score: \", log_model_score)\n",
    "grid_scores['log'] = log_model_score"
   ]
  },
  {
   "cell_type": "markdown",
   "metadata": {},
   "source": [
    "### 2. Random Forest HyperParameter Tuning"
   ]
  },
  {
   "cell_type": "code",
   "execution_count": 83,
   "metadata": {},
   "outputs": [
    {
     "name": "stdout",
     "output_type": "stream",
     "text": [
      "Random Forest grid_search.best_params_ and best_scores_ {'classifier__criterion': 'gini', 'classifier__max_features': 2, 'classifier__n_estimators': 50} 0.848314606741573\n",
      "Random Forest - model score:  0.8324022346368715\n"
     ]
    }
   ],
   "source": [
    "rf_clf = Pipeline(steps=[('preprocessor', all_preprocess),\n",
    "                      ('classifier', RandomForestClassifier(random_state=42))])\n",
    "\n",
    "rf_param_grid = {\n",
    "    'classifier__n_estimators' : [50, 100],\n",
    "    'classifier__max_features' : [2, 3],\n",
    "    'classifier__criterion' : ['gini', 'entropy']\n",
    "}\n",
    "\n",
    "rf_grid_search = GridSearchCV(rf_clf, rf_param_grid, cv=10, iid=True)\n",
    "rf_grid_search.fit(X_train, y_train)\n",
    "\n",
    "print('Random Forest grid_search.best_params_ and best_scores_', rf_grid_search.best_params_, rf_grid_search.best_score_)\n",
    "rf_model_score = rf_grid_search.score(X_test, y_test)\n",
    "print(\"Random Forest - model score: \", rf_model_score)\n",
    "grid_scores['rf'] = rf_model_score"
   ]
  },
  {
   "cell_type": "markdown",
   "metadata": {},
   "source": [
    "### 3. Support Vector HyperParameter Tuning"
   ]
  },
  {
   "cell_type": "code",
   "execution_count": 84,
   "metadata": {},
   "outputs": [
    {
     "name": "stdout",
     "output_type": "stream",
     "text": [
      "SVM grid_search.best_params_ and best_scores_ {'classifier__C': 3.0, 'classifier__gamma': 0.3, 'classifier__kernel': 'rbf'} 0.8539325842696629\n",
      "SVM - model score:  0.7988826815642458\n"
     ]
    }
   ],
   "source": [
    "svm_clf = Pipeline(steps=[('preprocessor', all_preprocess),\n",
    "                      ('classifier', SVC(random_state=42))])\n",
    "svm_param_grid = [\n",
    "    {'classifier__kernel': ['linear'], 'classifier__C': [10., 30., 100., 300.]},\n",
    "    {'classifier__kernel': ['rbf'], 'classifier__C': [1.0, 3.0, 10., 30., 100., 300.],\n",
    "     'classifier__gamma': [0.01, 0.03, 0.1, 0.3, 1.0]},\n",
    "    ] \n",
    "\n",
    "svm_grid_search = GridSearchCV(svm_clf, svm_param_grid, cv=10, iid=True)\n",
    "svm_grid_search.fit(X_train, y_train)\n",
    "\n",
    "print('SVM grid_search.best_params_ and best_scores_', svm_grid_search.best_params_, svm_grid_search.best_score_)\n",
    "svm_model_score = svm_grid_search.score(X_test, y_test)\n",
    "print(\"SVM - model score: \", svm_model_score)\n",
    "grid_scores['svm'] = svm_model_score"
   ]
  },
  {
   "cell_type": "markdown",
   "metadata": {},
   "source": [
    "### 4. KNN HyperParameter Tuning"
   ]
  },
  {
   "cell_type": "code",
   "execution_count": 85,
   "metadata": {},
   "outputs": [
    {
     "name": "stdout",
     "output_type": "stream",
     "text": [
      "KNN grid_search.best_params_ and best_scores_ {'classifier__leaf_size': 41, 'classifier__n_neighbors': 16, 'classifier__weights': 'uniform'} 0.8938504533903998\n",
      "KNN - model score:  0.8352437417654808\n"
     ]
    }
   ],
   "source": [
    "knn_clf = Pipeline(steps=[('preprocessor', all_preprocess),\n",
    "                      ('classifier', KNeighborsClassifier())])\n",
    "knn_param_grid = {\n",
    "    'classifier__n_neighbors': [5, 6, 7, 8, 9, 10, 11, 12, 14, 16, 18, 20, 22, 24, 26 ],\n",
    "    'classifier__weights': ['uniform', 'distance' ],\n",
    "    'classifier__leaf_size': list(range(1,50,5)),\n",
    "}\n",
    "\n",
    "knn_grid_search = GridSearchCV(knn_clf, knn_param_grid, cv=10, iid=True, scoring ='roc_auc')\n",
    "knn_grid_search.fit(X_train, y_train)\n",
    "\n",
    "print('KNN grid_search.best_params_ and best_scores_', knn_grid_search.best_params_, knn_grid_search.best_score_)\n",
    "knn_model_score = knn_grid_search.score(X_test, y_test)\n",
    "print(\"KNN - model score: \", knn_model_score)\n",
    "grid_scores['knn'] = knn_model_score"
   ]
  },
  {
   "cell_type": "markdown",
   "metadata": {},
   "source": [
    "### 5. SGD HyperParameter Tuning"
   ]
  },
  {
   "cell_type": "code",
   "execution_count": 86,
   "metadata": {},
   "outputs": [
    {
     "name": "stdout",
     "output_type": "stream",
     "text": [
      "SGD grid_search.best_params_ and best_scores_ {'classifier__alpha': 0.001, 'classifier__max_iter': 100} 0.8202247191011236\n",
      "SGD - model score:  0.8268156424581006\n"
     ]
    }
   ],
   "source": [
    "sgd_clf = Pipeline(steps=[('preprocessor', all_preprocess),\n",
    "                      ('classifier', SGDClassifier(random_state=42))])\n",
    "\n",
    "sgd_param_grid = {\n",
    "    'classifier__max_iter': [100, 200],\n",
    "    'classifier__alpha': [0.0001, 0.001, 0.01, 0.1],\n",
    "}\n",
    "\n",
    "sgd_grid_search = GridSearchCV(sgd_clf, sgd_param_grid, cv=10, iid=True)\n",
    "sgd_grid_search.fit(X_train, y_train)\n",
    "\n",
    "print('SGD grid_search.best_params_ and best_scores_', sgd_grid_search.best_params_, sgd_grid_search.best_score_)\n",
    "sgd_model_score = sgd_grid_search.score(X_test, y_test)\n",
    "print(\"SGD - model score: \", sgd_model_score)\n",
    "grid_scores['sgd'] = sgd_model_score"
   ]
  },
  {
   "cell_type": "markdown",
   "metadata": {},
   "source": [
    "### 6. Plotting the model scores (with hyper parameter tuning)"
   ]
  },
  {
   "cell_type": "code",
   "execution_count": 87,
   "metadata": {},
   "outputs": [
    {
     "data": {
      "image/png": "[encoded data removed]",
      "text/plain": [
       "<Figure size 800x500 with 1 Axes>"
      ]
     },
     "metadata": {},
     "output_type": "display_data"
    }
   ],
   "source": [
    "plt.plot(grid_scores.keys(), grid_scores.values(), \"ro\", markersize=10)\n",
    "fig=plt.gcf()\n",
    "fig.set_size_inches(8,5)\n",
    "plt.title('Model Scores of the Classifiers after hyperparameter tuning')\n",
    "plt.show()"
   ]
  },
  {
   "cell_type": "markdown",
   "metadata": {},
   "source": [
    "### The best classifier after hyperparameter tuning has changed "
   ]
  },
  {
   "cell_type": "markdown",
   "metadata": {},
   "source": [
    "## <a id='5.2'>5.2. Choose final prediction model </a> "
   ]
  },
  {
   "cell_type": "markdown",
   "metadata": {},
   "source": [
    "Choose the final prediction model from the graph after hyper parameter tuning\n",
    "\n",
    "- Choosing **KNeighborsClassifier** as that gave the best scores overall"
   ]
  },
  {
   "cell_type": "markdown",
   "metadata": {},
   "source": [
    "## <a id='5.3'>5.3. Prediction </a> "
   ]
  },
  {
   "cell_type": "code",
   "execution_count": 88,
   "metadata": {},
   "outputs": [],
   "source": [
    "final_pipe = Pipeline(steps=[('preprocessor', all_preprocess)])"
   ]
  },
  {
   "cell_type": "code",
   "execution_count": 89,
   "metadata": {},
   "outputs": [],
   "source": [
    "X_final_processed = final_pipe.fit_transform(X)"
   ]
  },
  {
   "cell_type": "code",
   "execution_count": 90,
   "metadata": {},
   "outputs": [],
   "source": [
    "test_final_processed = final_pipe.transform(test)"
   ]
  },
  {
   "cell_type": "markdown",
   "metadata": {},
   "source": [
    "### Train the model on all of the training data along with hyperparameter tuning"
   ]
  },
  {
   "cell_type": "code",
   "execution_count": 91,
   "metadata": {},
   "outputs": [
    {
     "name": "stdout",
     "output_type": "stream",
     "text": [
      "0.879570975642805\n",
      "KNeighborsClassifier(algorithm='auto', leaf_size=26, metric='minkowski',\n",
      "                     metric_params=None, n_jobs=None, n_neighbors=18, p=2,\n",
      "                     weights='uniform')\n"
     ]
    }
   ],
   "source": [
    "knn_hyperparameters = {\n",
    "    'n_neighbors': [6, 7, 8, 9, 10, 11, 12, 14, 16, 18, 20, 22],\n",
    "    'algorithm' : ['auto'],\n",
    "    'weights': ['uniform', 'distance'],\n",
    "    'leaf_size': list(range(1,50,5)),\n",
    "}\n",
    "\n",
    "gd=GridSearchCV(estimator = KNeighborsClassifier(), param_grid = knn_hyperparameters,  \n",
    "                cv=10, scoring = \"roc_auc\")\n",
    "\n",
    "gd.fit(X_final_processed, y)\n",
    "print(gd.best_score_)\n",
    "print(gd.best_estimator_)"
   ]
  },
  {
   "cell_type": "code",
   "execution_count": 92,
   "metadata": {},
   "outputs": [],
   "source": [
    "gd.best_estimator_.fit(X_final_processed, y)\n",
    "y_pred = gd.best_estimator_.predict(test_final_processed)"
   ]
  },
  {
   "cell_type": "markdown",
   "metadata": {},
   "source": [
    "#### The above prediction when tested showed lower score "
   ]
  },
  {
   "cell_type": "code",
   "execution_count": 93,
   "metadata": {},
   "outputs": [],
   "source": [
    "# Tested with different values for n_neighbors and n_jobs and came to this KNN classifier"
   ]
  },
  {
   "cell_type": "code",
   "execution_count": 94,
   "metadata": {},
   "outputs": [],
   "source": [
    "knn = KNeighborsClassifier(algorithm='auto', leaf_size=26, metric='minkowski', \n",
    "                           metric_params=None, n_jobs=None, n_neighbors=6, p=2, \n",
    "                           weights='uniform')\n",
    "knn.fit(X_final_processed, y)\n",
    "y_pred = knn.predict(test_final_processed)"
   ]
  },
  {
   "cell_type": "markdown",
   "metadata": {},
   "source": [
    "# <a id='6'>6. Submission  </a> "
   ]
  },
  {
   "cell_type": "code",
   "execution_count": 95,
   "metadata": {},
   "outputs": [],
   "source": [
    "submission = pd.DataFrame(pd.read_csv(\"../input/test.csv\")['PassengerId'])\n",
    "submission['Survived'] = y_pred\n",
    "submission.to_csv(\"submission.csv\", index = False)"
   ]
  },
  {
   "cell_type": "markdown",
   "metadata": {},
   "source": [
    "### Final thoughts \n",
    "- Tried imputing the 'Cabin' feature using 'missing' as the value for the NaN values but it did not work out.\n",
    "- For some reason the feature 'Embarked' lowered my scores. So finally droppped it.\n",
    "- Found that using std scaler improved the scores overall. I had initially used only One Hot Encoding and it generated sparse matrix which took me tantalizing close to 80% (0.799)! \n",
    "- Tried using F1 Scores to choose the final model but it did not work out. \n"
   ]
  },
  {
   "cell_type": "code",
   "execution_count": null,
   "metadata": {},
   "outputs": [],
   "source": []
  }
 ],
 "metadata": {
  "kernelspec": {
   "display_name": "Python 3",
   "language": "python",
   "name": "python3"
  },
  "language_info": {
   "codemirror_mode": {
    "name": "ipython",
    "version": 3
   },
   "file_extension": ".py",
   "mimetype": "text/x-python",
   "name": "python",
   "nbconvert_exporter": "python",
   "pygments_lexer": "ipython3",
   "version": "3.6.6"
  }
 },
 "nbformat": 4,
 "nbformat_minor": 1
}
